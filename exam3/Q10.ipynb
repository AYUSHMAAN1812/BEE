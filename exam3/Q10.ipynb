{
 "cells": [
  {
   "cell_type": "markdown",
   "metadata": {},
   "source": [
    "A separately excited DC motor has an armature resistance of 0.3 Ω. It runs from a 245 V DC supply drawing an armature current 18 A at 1480 rpm. For the same field current, the torque developed (in Nm) for an armature current 12 A will be"
   ]
  },
  {
   "cell_type": "markdown",
   "metadata": {},
   "source": [
    "### Find the motor's torque at the First operating point\n",
    "Terminal voltage V $\\\\$\n",
    "Armature current $I_{al}\\\\$\n",
    "Armature resistance $R_{a}\\\\$\n",
    "Speed $n_1\\\\$\n",
    "\n",
    "compute the back emf, $\\\\$\n",
    "$E_{b1} = V - I_{a1}\\cdot R_a\\\\$\n",
    "convert speed to rad/s $\\\\$\n",
    "$\\omega_1 = \\frac{2\\pi n_1}{60}\\\\$ \n",
    "mechanical (air-gap) power $\\\\$\n",
    "$P_{m1} = E_{b1}\\cdot I_{a1}\\\\$\n",
    "developed torque at the first condition $\\\\$\n",
    "$T_1 = \\frac{P_{m1}}{w_1}\\\\$\n",
    "\n",
    "### Torque at the second operating point\n",
    "$$T \\propto I_a\\\\$$\n",
    "$$T_2 = T_1 \\cdot \\frac{I_{a2}}{I_{a1}}\\\\$$"
   ]
  },
  {
   "cell_type": "code",
   "execution_count": 2,
   "metadata": {},
   "outputs": [
    {
     "name": "stdout",
     "output_type": "stream",
     "text": [
      "14.385953297657034\n"
     ]
    }
   ],
   "source": [
    "import numpy as np\n",
    "V = 240\n",
    "R_a = 0.4\n",
    "n1 = 1540\n",
    "I_a1 = 20\n",
    "I_a2 = 10\n",
    "Eb1 = V - I_a1*R_a\n",
    "w1 = 2*np.pi/60 * n1\n",
    "Pm1 = Eb1*I_a1\n",
    "T1 = Pm1/w1\n",
    "T2 = T1*(I_a2/I_a1)\n",
    "print(T2)"
   ]
  },
  {
   "cell_type": "code",
   "execution_count": null,
   "metadata": {},
   "outputs": [],
   "source": []
  }
 ],
 "metadata": {
  "kernelspec": {
   "display_name": "base",
   "language": "python",
   "name": "python3"
  },
  "language_info": {
   "codemirror_mode": {
    "name": "ipython",
    "version": 3
   },
   "file_extension": ".py",
   "mimetype": "text/x-python",
   "name": "python",
   "nbconvert_exporter": "python",
   "pygments_lexer": "ipython3",
   "version": "3.11.4"
  }
 },
 "nbformat": 4,
 "nbformat_minor": 2
}
