{
 "cells": [
  {
   "cell_type": "markdown",
   "metadata": {},
   "source": [
    " A break test is conducted on a DC motor. The spring balance reading are $w_1$ kg and $w_2$ kg. The diameter of drum is $D$ cm. The speed of the motor under these loading is $rpm$ rpm, when supplied at $V$ V, taking current of $I$ A from the mains. Find efficiency."
   ]
  },
  {
   "cell_type": "code",
   "execution_count": 1,
   "metadata": {},
   "outputs": [
    {
     "name": "stdout",
     "output_type": "stream",
     "text": [
      "Q-19 -->the efficiency is  43.732594285714285  %\n"
     ]
    }
   ],
   "source": [
    "def ques_19():\n",
    "  w1 = 4 ##kg\n",
    "  w2 = 20 ##kg\n",
    "  D=46 ##cm\n",
    "  rpm=810 ##rpm\n",
    "  V=200 ##v\n",
    "  I=35 ##a\n",
    "  R=D/2*10**-2\n",
    "  pIN = V*I\n",
    "  pout = 1.027*(w2-w1)*R*rpm\n",
    "  Efficiency = pout/pIN*100\n",
    "  return print(\"Q-19 -->the efficiency is \",Efficiency,\" %\")\n",
    "\n",
    "ques_19()"
   ]
  },
  {
   "cell_type": "code",
   "execution_count": null,
   "metadata": {},
   "outputs": [],
   "source": []
  }
 ],
 "metadata": {
  "kernelspec": {
   "display_name": "base",
   "language": "python",
   "name": "python3"
  },
  "language_info": {
   "codemirror_mode": {
    "name": "ipython",
    "version": 3
   },
   "file_extension": ".py",
   "mimetype": "text/x-python",
   "name": "python",
   "nbconvert_exporter": "python",
   "pygments_lexer": "ipython3",
   "version": "3.11.4"
  }
 },
 "nbformat": 4,
 "nbformat_minor": 2
}
