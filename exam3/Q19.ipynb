{
 "cells": [
  {
   "cell_type": "markdown",
   "metadata": {},
   "source": [
    " A break test is conducted on a DC motor. The spring balance reading are $w_1$ kg and $w_2$ kg. The diameter of drum is $D$ cm. The speed of the motor under these loading is $rpm$ rpm, when supplied at $V$ V, taking current of $I$ A from the mains. Find efficiency."
   ]
  },
  {
   "cell_type": "code",
   "execution_count": null,
   "metadata": {},
   "outputs": [],
   "source": [
    "def ques_19():\n",
    "  w1 = 5 ##kg\n",
    "  w2 = 20 ##kg\n",
    "  D=46 ##cm\n",
    "  rpm=900 ##rpm\n",
    "  V=210 ##v\n",
    "  I=35 ##a\n",
    "  R=D/2*10**-2\n",
    "  pIN = V*I\n",
    "  pout = 1.027*(w2-w1)*R*rpm\n",
    "  Efficiency = pout/pIN*100\n",
    "  return print(\"Q-19 -->the efficiency is \",Efficiency,\" %\")\n",
    "\n",
    "ques_19()"
   ]
  }
 ],
 "metadata": {
  "language_info": {
   "name": "python"
  }
 },
 "nbformat": 4,
 "nbformat_minor": 2
}
