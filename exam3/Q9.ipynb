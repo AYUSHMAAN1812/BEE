{
 "cells": [
  {
   "cell_type": "markdown",
   "metadata": {},
   "source": [
    "A 4 pole DC generator, having wave wound armature winding has 40 slots, and 30 conductors per slot. Flux per pole is 16 mWb. What is the emf generated when motor is driven at 650 rpm."
   ]
  },
  {
   "cell_type": "markdown",
   "metadata": {},
   "source": [
    "Number of poles , P $\\\\$\n",
    "Wave-round armature $\\implies A = 2\\\\$\n",
    "Total conductors = Z = number of slots $\\cdot$ number of conductors per slot $\\\\$\n",
    "Flux per pole, $\\phi \\\\$\n",
    "Speed, N"
   ]
  },
  {
   "cell_type": "code",
   "execution_count": 3,
   "metadata": {},
   "outputs": [
    {
     "name": "stdout",
     "output_type": "stream",
     "text": [
      "212.66666666666666\n"
     ]
    }
   ],
   "source": [
    "P = 2\n",
    "A = 2\n",
    "Z = 40*55\n",
    "phi = 10\n",
    "N = 580\n",
    "Emf = (P*Z*phi*N)/(60*A)\n",
    "print(Emf/1000)"
   ]
  },
  {
   "cell_type": "code",
   "execution_count": null,
   "metadata": {},
   "outputs": [],
   "source": []
  }
 ],
 "metadata": {
  "kernelspec": {
   "display_name": "base",
   "language": "python",
   "name": "python3"
  },
  "language_info": {
   "codemirror_mode": {
    "name": "ipython",
    "version": 3
   },
   "file_extension": ".py",
   "mimetype": "text/x-python",
   "name": "python",
   "nbconvert_exporter": "python",
   "pygments_lexer": "ipython3",
   "version": "3.11.4"
  }
 },
 "nbformat": 4,
 "nbformat_minor": 2
}
