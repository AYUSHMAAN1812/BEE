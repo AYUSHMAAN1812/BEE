{
 "cells": [
  {
   "cell_type": "markdown",
   "metadata": {},
   "source": [
    " A $P_{FL}$ kW, $V$ V DC shunt motor has armature resistance of $R_a$ Ω and shunt field resistance $R_{sh}$ Ω. At no load, the motor draws $I_o$ A from $V$ V supply and runs at $\\text{rpm}$ rpm. The rotational loss of the machine is"
   ]
  },
  {
   "cell_type": "code",
   "execution_count": 2,
   "metadata": {},
   "outputs": [
    {
     "name": "stdout",
     "output_type": "stream",
     "text": [
      "Q-11 -->The Total Rotational Loss of the machine is  1007.2022160664819  W\n"
     ]
    }
   ],
   "source": [
    "def ques_11():\n",
    "    P_FL = 3 ##kw\n",
    "    V = 215 ##V\n",
    "    Ra = 0.5 ##ohms\n",
    "    Rsh = 95 ##ohms\n",
    "    Io = 7 ##A no load\n",
    "    rpm = 907 ##rpm\n",
    "\n",
    "    Ifl = P_FL /V\n",
    "    Ish = V/Rsh\n",
    "    Ia = Io-Ish\n",
    "    Pin = V*Io\n",
    "    Ploss = Ia**2 * Ra + Ish**2 * Rsh\n",
    "    Ptls = Pin - Ploss\n",
    "    return print(\"Q-11 -->The Total Rotational Loss of the machine is \",Ptls,\" W\")\n",
    "ques_11()"
   ]
  },
  {
   "cell_type": "code",
   "execution_count": null,
   "metadata": {},
   "outputs": [],
   "source": []
  }
 ],
 "metadata": {
  "kernelspec": {
   "display_name": "base",
   "language": "python",
   "name": "python3"
  },
  "language_info": {
   "codemirror_mode": {
    "name": "ipython",
    "version": 3
   },
   "file_extension": ".py",
   "mimetype": "text/x-python",
   "name": "python",
   "nbconvert_exporter": "python",
   "pygments_lexer": "ipython3",
   "version": "3.11.4"
  }
 },
 "nbformat": 4,
 "nbformat_minor": 2
}
