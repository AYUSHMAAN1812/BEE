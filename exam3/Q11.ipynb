{
 "cells": [
  {
   "cell_type": "markdown",
   "metadata": {},
   "source": [
    " A $P_{FL}$ kW, $V$ V DC shunt motor has armature resistance of $R_a$ Ω and shunt field resistance $R_{sh}$ Ω. At no load, the motor draws $I_o$ A from $V$ V supply and runs at $\\text{rpm}$ rpm. The rotational loss of the machine is"
   ]
  },
  {
   "cell_type": "code",
   "execution_count": null,
   "metadata": {},
   "outputs": [],
   "source": [
    "def ques_11():\n",
    "    P_FL = 3 ##kw\n",
    "    V = 210 ##V\n",
    "    Ra = 0.8 ##ohms\n",
    "    Rsh = 90 ##ohms\n",
    "    Io = 7 ##A no load\n",
    "    rpm = 1024 ##rpm\n",
    "\n",
    "    Ifl = P_FL /V\n",
    "    Ish = V/Rsh\n",
    "    Ia = Io-Ish\n",
    "    Pin = V*Io\n",
    "    Ploss = Ia**2 * Ra + Ish**2 * Rsh\n",
    "    Ptls = Pin - Ploss\n",
    "    return print(\"Q-11 -->The Total Rotational Loss of the machine is \",Ptls,\" W\")"
   ]
  }
 ],
 "metadata": {
  "language_info": {
   "name": "python"
  }
 },
 "nbformat": 4,
 "nbformat_minor": 2
}
