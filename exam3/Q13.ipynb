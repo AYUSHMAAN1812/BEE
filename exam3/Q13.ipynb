{
 "cells": [
  {
   "cell_type": "markdown",
   "metadata": {},
   "source": [
    " A belt driven DC shunt generator runs at $\\text{rpm}$ rpm delivering $P_{de}$ kW, at $V$ V bus. The belt breaks following which the machine operates as a motor drawing $P_{dr}$ kW power. The armature and field resistance are ,$R_a$ Ω and $R_f$ Ω respectively. The speed when working as a motor will be"
   ]
  },
  {
   "cell_type": "code",
   "execution_count": 3,
   "metadata": {},
   "outputs": [
    {
     "name": "stdout",
     "output_type": "stream",
     "text": [
      "Q-13 -->The rpm is  1248.2743564086238  rpm\n"
     ]
    }
   ],
   "source": [
    "def ques_13():\n",
    "       rpm = 1320 ##rpm\n",
    "       Pde = 9 ##kW\n",
    "       V = 225 ##V\n",
    "       Pdr = 3 ##kw\n",
    "       Ra = 0.24 ##ohms\n",
    "       Rf = 56 ##ohms\n",
    "\n",
    "       Pin = Pdr\n",
    "       I = Pde*10**3/V\n",
    "       If = V/Rf\n",
    "       Ia = If+I\n",
    "       Eg = Ia*Ra +V\n",
    "       I = Pin*10**3/V\n",
    "       Ia = -I + If\n",
    "       Eb = Ia*Ra +V\n",
    "       Rpm = rpm*Eb/Eg\n",
    "       return print(\"Q-13 -->The rpm is \",Rpm,\" rpm\")\n",
    "ques_13()"
   ]
  },
  {
   "cell_type": "code",
   "execution_count": null,
   "metadata": {},
   "outputs": [],
   "source": []
  }
 ],
 "metadata": {
  "kernelspec": {
   "display_name": "base",
   "language": "python",
   "name": "python3"
  },
  "language_info": {
   "codemirror_mode": {
    "name": "ipython",
    "version": 3
   },
   "file_extension": ".py",
   "mimetype": "text/x-python",
   "name": "python",
   "nbconvert_exporter": "python",
   "pygments_lexer": "ipython3",
   "version": "3.11.4"
  }
 },
 "nbformat": 4,
 "nbformat_minor": 2
}
