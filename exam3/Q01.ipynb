{
 "cells": [
  {
   "cell_type": "markdown",
   "metadata": {
    "vscode": {
     "languageId": "latex"
    }
   },
   "source": [
    "A DC shunt generator delivers $I_L$ A at $V$ V. The armature and shunt winding resistances are $R_a$ Ω and $R_{sh}$ Ω respectively. Determine the EMF generated $\\\\$"
   ]
  },
  {
   "cell_type": "markdown",
   "metadata": {},
   "source": [
    "The shunt field current is given by : $I_f = \\frac{V_{sh}}{R_{sh}} \\\\$\n",
    "Armature current  : $I_a = I_L + I_f $ where $I_L$ is the load current $\\\\$\n",
    "Voltage drop across the armature circuit : $V_a = I_a \\cdot R_a \\\\$\n",
    "Generated EMF : ${EMF}_{gen} = V_{sh} + V_a\\\\$"
   ]
  },
  {
   "cell_type": "code",
   "execution_count": 1,
   "metadata": {},
   "outputs": [
    {
     "name": "stdout",
     "output_type": "stream",
     "text": [
      "487.2702702702702\n"
     ]
    }
   ],
   "source": [
    "V = 240\n",
    "I_L = 350\n",
    "R_a = 0.7\n",
    "R_sh = 74\n",
    "I_f = V/R_sh\n",
    "I_a = I_L + I_f\n",
    "V_a = I_a*R_a\n",
    "Emf_gen = V + V_a\n",
    "print(Emf_gen)"
   ]
  },
  {
   "cell_type": "markdown",
   "metadata": {},
   "source": [
    "$$\\text{or}$$ \n",
    "A $P$ pole DC shunt generator with $Z$ wave connected armature conductors is running at $\\text{rpm}$ rpm and supplying a load of $R_L$ Ω resistance at $V$ terminal voltage. The armature resistance is $R_a$ Ω and field resistance is $R_{sh}$ Ω. Find the emf generated in the armature."
   ]
  },
  {
   "cell_type": "code",
   "execution_count": 2,
   "metadata": {},
   "outputs": [
    {
     "name": "stdout",
     "output_type": "stream",
     "text": [
      "242.75027027027028\n"
     ]
    }
   ],
   "source": [
    "V = 240\n",
    "R_sh = 350\n",
    "R_a = 0.7\n",
    "R_L = 74\n",
    "I_L = V/R_L\n",
    "I_f = V/R_sh\n",
    "I_a = I_L + I_f\n",
    "V_a = I_a*R_a\n",
    "Emf_gen = V + V_a\n",
    "print(Emf_gen)"
   ]
  }
 ],
 "metadata": {
  "kernelspec": {
   "display_name": "base",
   "language": "python",
   "name": "python3"
  },
  "language_info": {
   "codemirror_mode": {
    "name": "ipython",
    "version": 3
   },
   "file_extension": ".py",
   "mimetype": "text/x-python",
   "name": "python",
   "nbconvert_exporter": "python",
   "pygments_lexer": "ipython3",
   "version": "3.11.4"
  }
 },
 "nbformat": 4,
 "nbformat_minor": 2
}
