{
 "cells": [
  {
   "cell_type": "markdown",
   "metadata": {},
   "source": [
    "A 6 pole lap connected DC machine has an armature resistance of 0.5 Ω, and generate 80 volt on no load at rated speed. Determine the armature resistance, when same machine is re-wound using simplex wave connection."
   ]
  },
  {
   "cell_type": "markdown",
   "metadata": {},
   "source": [
    "Number of parallel paths in lap winding ($A_{lap}$) is equal to Number of poles (P). $\\\\$\n",
    "Number of parallel paths in wave winding ($A_{wave}$) is always 2. $\\\\$\n",
    "Suppose the total resistance if we placed all armature conductors in series is $R_{total}\\\\$. \n",
    "\n",
    "In lap winding with P poles:  $\\\\$\n",
    "\n",
    "1. There are $P$ parallel paths, each path has $\\frac{1}{P}$ of the total conductors in series,  \n",
    "   so each path's resistance is $\\frac{R_{total}}{P}\\\\$. \n",
    "\n",
    "2. Since there are $P$ parallel paths, the net terminal armature resistance is: $\\\\$\n",
    "\n",
    "   $$\n",
    "   R_{lap} = \\frac{\\frac{R_{total}}{P}}{P}\\\\\n",
    "   $$\n",
    "\n",
    "Armature resistance ($R_{arm}$) = Wave Resistance ($R_{wave}$) = $R_{lap} \\cdot \\frac{A_{lap}}{A_{wave}}\\\\$. \n"
   ]
  },
  {
   "cell_type": "code",
   "execution_count": 2,
   "metadata": {},
   "outputs": [
    {
     "name": "stdout",
     "output_type": "stream",
     "text": [
      "1.5\n"
     ]
    }
   ],
   "source": [
    "A_lap = 6\n",
    "A_wave = 2\n",
    "R_lap = 0.5\n",
    "R_arm = ( R_lap * A_lap / A_wave )\n",
    "print(R_arm)"
   ]
  },
  {
   "cell_type": "code",
   "execution_count": null,
   "metadata": {},
   "outputs": [],
   "source": []
  }
 ],
 "metadata": {
  "kernelspec": {
   "display_name": "base",
   "language": "python",
   "name": "python3"
  },
  "language_info": {
   "codemirror_mode": {
    "name": "ipython",
    "version": 3
   },
   "file_extension": ".py",
   "mimetype": "text/x-python",
   "name": "python",
   "nbconvert_exporter": "python",
   "pygments_lexer": "ipython3",
   "version": "3.11.4"
  }
 },
 "nbformat": 4,
 "nbformat_minor": 2
}
