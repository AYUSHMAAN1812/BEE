{
 "cells": [
  {
   "cell_type": "markdown",
   "metadata": {},
   "source": [
    " A DC generator has armature induced emf of 190 V when flux per pole is 19 mWb, and speed is 580 rpm. Calculate the emf generated when speed is 740 rpm but flux per pole is 24 mWb."
   ]
  },
  {
   "cell_type": "markdown",
   "metadata": {},
   "source": [
    "Emf $ E \\propto \\phi\\cdot speed\\\\$  "
   ]
  },
  {
   "cell_type": "code",
   "execution_count": 1,
   "metadata": {},
   "outputs": [
    {
     "name": "stdout",
     "output_type": "stream",
     "text": [
      "306.2068965517241\n"
     ]
    }
   ],
   "source": [
    "E1 = 190\n",
    "phi1 = 19\n",
    "phi2 = 24\n",
    "N1 = 580\n",
    "N2 = 740\n",
    "E2 = E1*((phi2/phi1)*(N2/N1))\n",
    "print(E2)"
   ]
  },
  {
   "cell_type": "code",
   "execution_count": null,
   "metadata": {},
   "outputs": [],
   "source": []
  }
 ],
 "metadata": {
  "kernelspec": {
   "display_name": "base",
   "language": "python",
   "name": "python3"
  },
  "language_info": {
   "codemirror_mode": {
    "name": "ipython",
    "version": 3
   },
   "file_extension": ".py",
   "mimetype": "text/x-python",
   "name": "python",
   "nbconvert_exporter": "python",
   "pygments_lexer": "ipython3",
   "version": "3.11.4"
  }
 },
 "nbformat": 4,
 "nbformat_minor": 2
}
