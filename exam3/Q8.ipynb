{
 "cells": [
  {
   "cell_type": "markdown",
   "metadata": {},
   "source": [
    " A DC generator has armature induced emf of 190 V when flux per pole is 19 mWb, and speed is 580 rpm. Calculate the emf generated when speed is 740 rpm but flux per pole is 24 mWb."
   ]
  },
  {
   "cell_type": "markdown",
   "metadata": {},
   "source": [
    "Emf $ E \\propto \\phi\\cdot speed\\\\$  "
   ]
  },
  {
   "cell_type": "code",
   "execution_count": 2,
   "metadata": {},
   "outputs": [
    {
     "name": "stdout",
     "output_type": "stream",
     "text": [
      "568.2352941176471\n"
     ]
    }
   ],
   "source": [
    "E1 = 230\n",
    "phi1 = 11\n",
    "phi2 = 21\n",
    "N1 = 850\n",
    "N2 = 1100\n",
    "E2 = E1*((phi2/phi1)*(N2/N1))\n",
    "print(E2)"
   ]
  },
  {
   "cell_type": "code",
   "execution_count": null,
   "metadata": {},
   "outputs": [],
   "source": []
  }
 ],
 "metadata": {
  "kernelspec": {
   "display_name": "base",
   "language": "python",
   "name": "python3"
  },
  "language_info": {
   "codemirror_mode": {
    "name": "ipython",
    "version": 3
   },
   "file_extension": ".py",
   "mimetype": "text/x-python",
   "name": "python",
   "nbconvert_exporter": "python",
   "pygments_lexer": "ipython3",
   "version": "3.11.4"
  }
 },
 "nbformat": 4,
 "nbformat_minor": 2
}
