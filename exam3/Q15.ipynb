{
 "cells": [
  {
   "cell_type": "markdown",
   "metadata": {},
   "source": [
    " A shunt generator delivers $P_{de}$ kW at $V_o$ V and $rpm$ rpm. The armature and field resistance are $R_a$ Ω and $R_f$ Ω respectively. Calculate the speed of the machine running as shunt motor and taking $P_{in}$ kW input at $V_i$ V. Allow voltage drop of 1 V per brush for this machine."
   ]
  },
  {
   "cell_type": "code",
   "execution_count": null,
   "metadata": {},
   "outputs": [],
   "source": [
    "def ques_15():\n",
    "    Pde = 34 ##kW\n",
    "    Vo = 300 ##v\n",
    "    rpm = 899 ##rpm\n",
    "    Ra = 0.38 ##ohms\n",
    "    Rf = 60 ##ohms\n",
    "    Pin = 41 ##kw\n",
    "    Vi = 325 ##v\n",
    "\n",
    "    Il = Pde/Vo*10**3\n",
    "    If = Vo/Rf\n",
    "    Ia = If+Il\n",
    "    Eg = Vo + Ia*Ra +2\n",
    "    Il = Pin*10**3/Vi\n",
    "    If = Vo/Rf\n",
    "    Ia = Il - If\n",
    "    Eb = Vo - Ia*Ra - 2\n",
    "    Rpm = rpm*Eb/Eg\n",
    "    return print(\"Q-15 -->The RPM is \",Rpm,\" rpm\")\n",
    "ques_15()"
   ]
  }
 ],
 "metadata": {
  "language_info": {
   "name": "python"
  }
 },
 "nbformat": 4,
 "nbformat_minor": 2
}
