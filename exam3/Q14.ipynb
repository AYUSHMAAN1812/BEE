{
 "cells": [
  {
   "cell_type": "markdown",
   "metadata": {},
   "source": [
    "A $V$ V, $P_w$ kW, $\\text{rpm}$ rpm separately excited DC motor has an armature resistance $R_a$ Ω. When the motor operates at rated speed and with rated terminal voltage , the electromagnetic torque developed by the motor is $T$ Nm. Neglecting the rotational losses of the machine, the current drawn by the motor from $V$ V supply is"
   ]
  },
  {
   "cell_type": "code",
   "execution_count": 1,
   "metadata": {},
   "outputs": [
    {
     "name": "stdout",
     "output_type": "stream",
     "text": [
      "Q-14 -->The Current is  35.061577996417874  A\n"
     ]
    }
   ],
   "source": [
    "def ques_14():\n",
    "    \n",
    "    V = 200 ##V\n",
    "    Pw = 11 ##kw\n",
    "    rpm =890 ##rpm\n",
    "    Ra = 0.021 ##ohms\n",
    "    T = 75 ##Nm\n",
    "    Ia = (V - (V**2 - 4*T*2*3.14*rpm/60*Ra)**0.5)/2/Ra\n",
    "    return print(\"Q-14 -->The Current is \",Ia,\" A\")\n",
    "ques_14()"
   ]
  },
  {
   "cell_type": "code",
   "execution_count": null,
   "metadata": {},
   "outputs": [],
   "source": []
  }
 ],
 "metadata": {
  "kernelspec": {
   "display_name": "base",
   "language": "python",
   "name": "python3"
  },
  "language_info": {
   "codemirror_mode": {
    "name": "ipython",
    "version": 3
   },
   "file_extension": ".py",
   "mimetype": "text/x-python",
   "name": "python",
   "nbconvert_exporter": "python",
   "pygments_lexer": "ipython3",
   "version": "3.11.4"
  }
 },
 "nbformat": 4,
 "nbformat_minor": 2
}
