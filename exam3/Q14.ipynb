{
 "cells": [
  {
   "cell_type": "markdown",
   "metadata": {},
   "source": [
    "A $V$ V, $P_w$ kW, $\\text{rpm}$ rpm separately excited DC motor has an armature resistance $R_a$ Ω. When the motor operates at rated speed and with rated terminal voltage , the electromagnetic torque developed by the motor is $T$ Nm. Neglecting the rotational losses of the machine, the current drawn by the motor from $V$ V supply is"
   ]
  },
  {
   "cell_type": "code",
   "execution_count": null,
   "metadata": {},
   "outputs": [],
   "source": [
    "def ques_14():\n",
    "    \n",
    "    V = 230 ##V\n",
    "    Pw = 10 ##kw\n",
    "    rpm =820 ##rpm\n",
    "    Ra = 0.029 ##ohms\n",
    "    T = 60 ##Nm\n",
    "    Ia = (V - (V**2 - 4*T*2*3.14*rpm/60*Ra)**0.5)/2/Ra\n",
    "    return print(\"Q-14 -->The Current is \",Ia,\" A\")\n",
    "ques_14()"
   ]
  }
 ],
 "metadata": {
  "language_info": {
   "name": "python"
  }
 },
 "nbformat": 4,
 "nbformat_minor": 2
}
