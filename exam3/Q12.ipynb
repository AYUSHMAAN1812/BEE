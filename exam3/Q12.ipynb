{
 "cells": [
  {
   "cell_type": "markdown",
   "metadata": {},
   "source": [
    "A DC shunt generator delivers 65 kW at 220 V and 360 rpm. The armature and field resistance are 0.013 Ω and 50 Ω respectively. The speed of the machine when running as a shunt motor and taking 65 kW input at 220 V will be"
   ]
  },
  {
   "cell_type": "markdown",
   "metadata": {},
   "source": [
    "Output Power : $P_o\\\\$\n",
    "Terminal voltage : V $\\\\$\n",
    "Armature Resistance : $R_a\\\\$\n",
    "Field Resistance : $R_f\\\\$\n",
    "Load (Output) current : $I_{load} = \\frac{P_o}{V}\\\\$\n",
    "Field current : $I_{f} = \\frac{V}{R_f}\\\\$\n",
    "\n",
    "The armature current is the sum of the load current and the field current.\n",
    "$$I_a = I_f + I_{load}\\\\$$\n",
    "Voltage drop across the armature: \n",
    "$$\\Delta V_a = I_a\\cdot R_a\\\\$$\n",
    "\n",
    "Internally generated EmF : \n",
    "$$ E_g = V + \\Delta V_a \\\\$$\n",
    "\n",
    "We can write Generated EMF as :\n",
    "$$ E = k\\cdot \\phi \\cdot N\\\\$$\n",
    "where k = machine constant, $\\phi$ = flux per pole, and N = speed in rpm $\\\\$\n",
    "\n",
    "$$k\\cdot \\phi = \\frac{E_g}{N_{gen}}\\\\$$\n",
    "\n",
    "when the input runs as a shunt motor,$\\\\$\n",
    "Input Power : $P_i$\n",
    "Supply Voltage : $V\\\\$\n",
    "Field current remains $I_f\\\\$\n",
    "The armature current drawn by the motor : \n",
    "$$I_{a,motor} = \\frac{P_i}{V}\\\\$$\n",
    "Armature drop in the motor:\n",
    "$$\\Delta V_{a,motor} = I_{a,motor} \\cdot R_a\\\\$$\n",
    "Motor's back EMF $E_b$ :\n",
    "$$E_b = V - \\Delta V_{a,motor}\\\\$$\n",
    "\n",
    "Motor's speed:\n",
    "$$N_{motor} = \\frac{E_b}{k\\cdot \\phi}\\\\$$"
   ]
  },
  {
   "cell_type": "code",
   "execution_count": 2,
   "metadata": {},
   "outputs": [
    {
     "name": "stdout",
     "output_type": "stream",
     "text": [
      "347.5566320914156\n"
     ]
    }
   ],
   "source": [
    "P = 65\n",
    "V = 220\n",
    "R_f = 50\n",
    "R_a = 0.013\n",
    "N_gen = 360\n",
    "I_load = P*1000/V\n",
    "I_f = V/R_f\n",
    "I_a = I_f+I_load\n",
    "DV = I_a*R_a\n",
    "E_g = V + DV\n",
    "\n",
    "k_phi = E_g/N_gen\n",
    "\n",
    "P = 65\n",
    "V = 220\n",
    "I_a_motor = P*1000/V\n",
    "DV = I_a_motor*R_a\n",
    "E_b = V - DV\n",
    "\n",
    "N_motor = E_b/k_phi\n",
    "print(N_motor)"
   ]
  },
  {
   "cell_type": "markdown",
   "metadata": {},
   "source": [
    "$$\\text{or}$$\n",
    " A DC shunt motor is running at $\\text{rpm}$ rpm, when excited with $V$ V DC. Neglecting losses and saturation, the speed of motor when connected to a $V_{new}$ V DC supply is"
   ]
  },
  {
   "cell_type": "code",
   "execution_count": null,
   "metadata": {},
   "outputs": [],
   "source": [
    "def ques_12():\n",
    "    rpm = 1230 ##rpm\n",
    "    V = 230 ##v\n",
    "    Vnew = 170 ##v\n",
    "    Rpm = rpm\n",
    "    return print(\"Q-12 -->The new rpm is \",Rpm,\" rpm\")\n",
    "ques_12()"
   ]
  }
 ],
 "metadata": {
  "kernelspec": {
   "display_name": "base",
   "language": "python",
   "name": "python3"
  },
  "language_info": {
   "codemirror_mode": {
    "name": "ipython",
    "version": 3
   },
   "file_extension": ".py",
   "mimetype": "text/x-python",
   "name": "python",
   "nbconvert_exporter": "python",
   "pygments_lexer": "ipython3",
   "version": "3.11.4"
  }
 },
 "nbformat": 4,
 "nbformat_minor": 2
}
