{
 "cells": [
  {
   "cell_type": "markdown",
   "metadata": {},
   "source": [
    "A $P$ pole DC generator, having wave wound armature winding has $\\text{NS}$ slots, and $\\text{CPS}$ conductors per slot. Flux per pole is $\\phi$ mWb. What is the emf generated when motor is driven at $N$ rpm."
   ]
  },
  {
   "cell_type": "markdown",
   "metadata": {},
   "source": [
    "Number of poles , P $\\\\$\n",
    "Wave-round armature $\\implies A = 2\\\\$\n",
    "Total conductors = Z = number of slots $\\cdot$ number of conductors per slot $\\\\$\n",
    "Flux per pole, $\\phi \\\\$\n",
    "Speed, N"
   ]
  },
  {
   "cell_type": "code",
   "execution_count": null,
   "metadata": {},
   "outputs": [
    {
     "name": "stdout",
     "output_type": "stream",
     "text": [
      "212.66666666666666\n"
     ]
    }
   ],
   "source": [
    "P = 2\n",
    "A = 2\n",
    "NS = 40\n",
    "CPS = 55\n",
    "Z = NS*CPS\n",
    "phi = 10\n",
    "N = 580\n",
    "Emf = (P*Z*phi*N)/(60*A)\n",
    "print(Emf/1000)"
   ]
  },
  {
   "cell_type": "code",
   "execution_count": null,
   "metadata": {},
   "outputs": [],
   "source": []
  }
 ],
 "metadata": {
  "kernelspec": {
   "display_name": "base",
   "language": "python",
   "name": "python3"
  },
  "language_info": {
   "codemirror_mode": {
    "name": "ipython",
    "version": 3
   },
   "file_extension": ".py",
   "mimetype": "text/x-python",
   "name": "python",
   "nbconvert_exporter": "python",
   "pygments_lexer": "ipython3",
   "version": "3.11.4"
  }
 },
 "nbformat": 4,
 "nbformat_minor": 2
}
