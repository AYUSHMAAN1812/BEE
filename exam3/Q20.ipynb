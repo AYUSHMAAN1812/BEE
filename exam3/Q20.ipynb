{
 "cells": [
  {
   "cell_type": "markdown",
   "metadata": {},
   "source": [
    "A $P_1$ kW, $V$ V, DC shunt motor with an armature resistance of $R_a$ Ω and field resistance $R_f$ Ω takes $I_f$ A, when running light at rated voltage and rated speed. What is machine efficiency as motor with input of $P_{in}$ kW at rated speed and voltage."
   ]
  },
  {
   "cell_type": "code",
   "execution_count": null,
   "metadata": {},
   "outputs": [],
   "source": [
    "def ques_20():\n",
    "    P1 =8 ## kW\n",
    "    V =240 ##V\n",
    "    Ra = 0.4 ##ohms\n",
    "    Rf = 275 ##ohms\n",
    "    If = 3.9 ##A\n",
    "    Pin = 8 ##kW\n",
    "    Ish = V/Rf\n",
    "    Ia = If - Ish\n",
    "    pin = V*If\n",
    "    pcu = Ish**2 *  Rf + Ia**2 * Ra\n",
    "    ploss = pin - pcu\n",
    "    If= Pin*10**3/V\n",
    "    Ia = If-Ish\n",
    "    Pcu = Ish**2 *  Rf + Ia**2 * Ra\n",
    "    Ploss = Pin*10**3 - Pcu - ploss\n",
    "    Eff = Ploss/Pin/10**3*100\n",
    "    return print(\"Q-20-->The Efficiency is \",Eff,\" %\")\n",
    "ques_20()"
   ]
  },
  {
   "cell_type": "code",
   "execution_count": null,
   "metadata": {},
   "outputs": [],
   "source": []
  }
 ],
 "metadata": {
  "language_info": {
   "name": "python"
  }
 },
 "nbformat": 4,
 "nbformat_minor": 2
}
