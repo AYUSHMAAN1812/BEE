{
 "cells": [
  {
   "cell_type": "markdown",
   "metadata": {},
   "source": [
    "A $P_1$ kW, $V$ V, DC shunt motor with an armature resistance of $R_a$ Ω and field resistance $R_f$ Ω takes $I_f$ A, when running light at rated voltage and rated speed. What is machine efficiency as motor with input of $P_{in}$ kW at rated speed and voltage."
   ]
  },
  {
   "cell_type": "code",
   "execution_count": 1,
   "metadata": {},
   "outputs": [
    {
     "name": "stdout",
     "output_type": "stream",
     "text": [
      "Q-20-->The Efficiency is  78.3454074905482  %\n"
     ]
    }
   ],
   "source": [
    "def ques_20():\n",
    "    P1 =8 ## kW\n",
    "    V =230 ##V\n",
    "    Ra = 0.75 ##ohms\n",
    "    Rf = 280 ##ohms\n",
    "    If = 3.8 ##A\n",
    "    Pin = 8 ##kW\n",
    "    Ish = V/Rf\n",
    "    Ia = If - Ish\n",
    "    pin = V*If\n",
    "    pcu = Ish**2 *  Rf + Ia**2 * Ra\n",
    "    ploss = pin - pcu\n",
    "    If= Pin*10**3/V\n",
    "    Ia = If-Ish\n",
    "    Pcu = Ish**2 *  Rf + Ia**2 * Ra\n",
    "    Ploss = Pin*10**3 - Pcu - ploss\n",
    "    Eff = Ploss/Pin/10**3*100\n",
    "    return print(\"Q-20-->The Efficiency is \",Eff,\" %\")\n",
    "ques_20()"
   ]
  },
  {
   "cell_type": "code",
   "execution_count": null,
   "metadata": {},
   "outputs": [],
   "source": []
  }
 ],
 "metadata": {
  "kernelspec": {
   "display_name": "base",
   "language": "python",
   "name": "python3"
  },
  "language_info": {
   "codemirror_mode": {
    "name": "ipython",
    "version": 3
   },
   "file_extension": ".py",
   "mimetype": "text/x-python",
   "name": "python",
   "nbconvert_exporter": "python",
   "pygments_lexer": "ipython3",
   "version": "3.11.4"
  }
 },
 "nbformat": 4,
 "nbformat_minor": 2
}
