{
 "cells": [
  {
   "cell_type": "markdown",
   "metadata": {},
   "source": [
    " A $P$ pole wave wound motor armature has $Z$ conductors and delivers $I$ A. The brushes have been displaced through $ang\\_dis$ angular degrees from geometrical axis. Find additional field current for neutralising demagnetising effect if there are $N$ turns in shunt field winding."
   ]
  },
  {
   "cell_type": "code",
   "execution_count": 1,
   "metadata": {},
   "outputs": [
    {
     "name": "stdout",
     "output_type": "stream",
     "text": [
      "Q-18 -->The additional current is  0.20689448441247002  A\n"
     ]
    }
   ],
   "source": [
    "def ques_18():\n",
    "        P = 6 ##pole\n",
    "        Z = 595 ##conductors\n",
    "        I= 145 ##A\n",
    "        A=2\n",
    "        ang_dis = 2.4 ##angular degrees\n",
    "        N = 1390\n",
    "        ATd = Z*I/A*ang_dis/360/N\n",
    "        return print(\"Q-18 -->The additional current is \",ATd,\" A\")\n",
    "ques_18()"
   ]
  },
  {
   "cell_type": "code",
   "execution_count": null,
   "metadata": {},
   "outputs": [],
   "source": []
  }
 ],
 "metadata": {
  "kernelspec": {
   "display_name": "base",
   "language": "python",
   "name": "python3"
  },
  "language_info": {
   "codemirror_mode": {
    "name": "ipython",
    "version": 3
   },
   "file_extension": ".py",
   "mimetype": "text/x-python",
   "name": "python",
   "nbconvert_exporter": "python",
   "pygments_lexer": "ipython3",
   "version": "3.11.4"
  }
 },
 "nbformat": 4,
 "nbformat_minor": 2
}
