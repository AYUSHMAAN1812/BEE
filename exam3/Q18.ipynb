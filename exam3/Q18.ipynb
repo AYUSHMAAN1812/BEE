{
 "cells": [
  {
   "cell_type": "markdown",
   "metadata": {},
   "source": [
    " A $P$ pole wave wound motor armature has $Z$ conductors and delivers $I$ A. The brushes have been displaced through $ang\\_dis$ angular degrees from geometrical axis. Find additional field current for neutralising demagnetising effect if there are $N$ turns in shunt field winding."
   ]
  },
  {
   "cell_type": "code",
   "execution_count": null,
   "metadata": {},
   "outputs": [],
   "source": [
    "def ques_18():\n",
    "        P = 6 ##pole\n",
    "        Z = 650 ##conductors\n",
    "        I= 180 ##A\n",
    "        A=2\n",
    "        ang_dis = 3.95 ##angular degrees\n",
    "        N = 1210\n",
    "        ATd = Z*I/A*ang_dis/360/N\n",
    "        return print(\"Q-18 -->The additional current is \",ATd,\" A\")\n",
    "ques_18()"
   ]
  }
 ],
 "metadata": {
  "language_info": {
   "name": "python"
  }
 },
 "nbformat": 4,
 "nbformat_minor": 2
}
