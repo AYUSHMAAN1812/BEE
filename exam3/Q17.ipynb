{
 "cells": [
  {
   "cell_type": "markdown",
   "metadata": {},
   "source": [
    " A $P_w$ kW, $V$ V, $P$ pole wave wound DC shunt motor has $Z$ armature conductors and $\\text{Comm}$ commutator segments. Its full load efficiency is $\\text{Eff}\\cdot 100$% and the shunt field current is $I_f$ A. If the brushes are shifted backward by $Sh$ segments from geometrically neutral axis. Find the distorting ampere turns per pole."
   ]
  },
  {
   "cell_type": "code",
   "execution_count": 7,
   "metadata": {},
   "outputs": [
    {
     "name": "stdout",
     "output_type": "stream",
     "text": [
      "Q-17 -->The distorion ampere turns per pole 3865.847661788182  AT/pole\n"
     ]
    }
   ],
   "source": [
    "def ques_17():\n",
    "    A =2\n",
    "    Pw = 37 ##kw\n",
    "    V = 320 ##V\n",
    "    P =6  ##POLES\n",
    "    Z = 760 ##conductors\n",
    "    Comm = 185 ##commutator segments\n",
    "    Eff = 0.807 ##not percent\n",
    "    If = 3.0 ##A\n",
    "    Sh = 2 ##segments\n",
    "    thetam = 360/Comm * Sh\n",
    "    Pin = Pw/Eff\n",
    "    Il = Pin*10**3/V\n",
    "    Ia = Il - If\n",
    "    I = Ia/A\n",
    "    Atd = Z*I*thetam/360\n",
    "    Atc = Z*I*(1/(2*P) - thetam/360)\n",
    "    return  print(\"Q-17 -->The distorion ampere turns per pole\",Atc,\" AT/pole\")\n",
    "ques_17()"
   ]
  },
  {
   "cell_type": "code",
   "execution_count": null,
   "metadata": {},
   "outputs": [],
   "source": []
  }
 ],
 "metadata": {
  "kernelspec": {
   "display_name": "base",
   "language": "python",
   "name": "python3"
  },
  "language_info": {
   "codemirror_mode": {
    "name": "ipython",
    "version": 3
   },
   "file_extension": ".py",
   "mimetype": "text/x-python",
   "name": "python",
   "nbconvert_exporter": "python",
   "pygments_lexer": "ipython3",
   "version": "3.11.4"
  }
 },
 "nbformat": 4,
 "nbformat_minor": 2
}
