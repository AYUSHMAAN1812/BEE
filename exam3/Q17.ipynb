{
 "cells": [
  {
   "cell_type": "markdown",
   "metadata": {},
   "source": [
    " A $P_w$ kW, $V$ V, $P$ pole wave wound DC shunt motor has $Z$ armature conductors and $\\text{Comm}$ commutator segments. Its full load efficiency is $\\text{Eff}\\cdot 100$% and the shunt field current is $I_f$ A. If the brushes are shifted backward by $Sh$ segments from geometrically neutral axis. Find the distorting ampere turns per pole."
   ]
  },
  {
   "cell_type": "code",
   "execution_count": null,
   "metadata": {},
   "outputs": [],
   "source": [
    "def ques_17():\n",
    "    A =2\n",
    "    Pw = 32.9 ##kw\n",
    "    V = 320 ##V\n",
    "    P =4  ##POLES\n",
    "    Z = 600 ##conductors\n",
    "    Comm = 105 ##commutator segments\n",
    "    Eff = 0.858 ##not percent\n",
    "    If = 3.9 ##A\n",
    "    Sh = 3 ##segments\n",
    "    thetam = 360/Comm * Sh\n",
    "    Pin = Pw/Eff\n",
    "    Il = Pin*10**3/V\n",
    "    Ia = Il - If\n",
    "    I = Ia/A\n",
    "    Atd = Z*I*thetam/360\n",
    "    Atc = Z*I*(1/2*P - thetam/360)\n",
    "    return  print(\"Q-17 -->The distorion ampere turns per pole\",Atd,\" AT/pole\")\n",
    "ques_17()"
   ]
  }
 ],
 "metadata": {
  "language_info": {
   "name": "python"
  }
 },
 "nbformat": 4,
 "nbformat_minor": 2
}
