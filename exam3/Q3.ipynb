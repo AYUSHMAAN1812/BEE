{
 "cells": [
  {
   "cell_type": "markdown",
   "metadata": {},
   "source": [
    " A 8 pole DC generator has 20 armature conductors, and flux of 26 mWb per pole. What is emf generator if it is lap conected running at 860 rpm?"
   ]
  },
  {
   "cell_type": "markdown",
   "metadata": {},
   "source": [
    "Number of Poles : P $\\\\$\n",
    "Number of armature conductors : Z $\\\\$\n",
    "Flux per pole $\\phi \\\\$\n",
    "Speed of rotation : N $\\\\$\n",
    "Lap connection : $A \\implies P \\\\$ \n",
    "EMF Generated in DC generator : $\\\\$\n",
    "$$E = \\frac{\\phi \\cdot Z \\cdot N \\cdot P}{60 \\cdot A}\\\\$$\n",
    "\n",
    "For a lap-wound machine, A = P, So, $\\\\$\n",
    "$$E_{lap} = \\frac{\\phi \\cdot Z \\cdot N }{60}\\\\$$"
   ]
  },
  {
   "cell_type": "code",
   "execution_count": 2,
   "metadata": {},
   "outputs": [
    {
     "name": "stdout",
     "output_type": "stream",
     "text": [
      "7.453333333333333\n"
     ]
    }
   ],
   "source": [
    "phi = 26\n",
    "P = 8\n",
    "Z = 20\n",
    "N = 860\n",
    "E = phi*Z*N/(60*1000)\n",
    "print(E)"
   ]
  },
  {
   "cell_type": "code",
   "execution_count": null,
   "metadata": {},
   "outputs": [],
   "source": []
  }
 ],
 "metadata": {
  "kernelspec": {
   "display_name": "base",
   "language": "python",
   "name": "python3"
  },
  "language_info": {
   "codemirror_mode": {
    "name": "ipython",
    "version": 3
   },
   "file_extension": ".py",
   "mimetype": "text/x-python",
   "name": "python",
   "nbconvert_exporter": "python",
   "pygments_lexer": "ipython3",
   "version": "3.11.4"
  }
 },
 "nbformat": 4,
 "nbformat_minor": 2
}
