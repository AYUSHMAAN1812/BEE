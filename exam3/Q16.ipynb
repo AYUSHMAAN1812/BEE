{
 "cells": [
  {
   "cell_type": "markdown",
   "metadata": {},
   "source": [
    "A 4 pole wave wound motor armature has 975 conductors and delivers 185 A. The brushes have been displaced through 1.25 angular degrees from geometrical axis. Calculate Demagnetising ampere turns per pole."
   ]
  },
  {
   "cell_type": "markdown",
   "metadata": {},
   "source": [
    "Total numbers of conductors : Z $\\\\$\n",
    "Total armature current : $I_a\\\\$\n",
    "Number of poles : P $\\\\$\n",
    "Brush shift : $\\theta ^\\circ$ (Electrical degrees) $\\\\$\n",
    "Demagnetizing current : $I_d = I_a \\cdot \\frac{Angle\\:of\\:Shift}{90^\\circ}\\\\$\n",
    "\n",
    "### Demagnetizing Ampere-Turns per Pole\n",
    "Demagnetizing Ampere-Turns per Pole = $\\frac{Z\\cdot I_d}{2P}\\\\$"
   ]
  },
  {
   "cell_type": "code",
   "execution_count": 1,
   "metadata": {},
   "outputs": [
    {
     "name": "stdout",
     "output_type": "stream",
     "text": [
      "2.569444444444444\n"
     ]
    }
   ],
   "source": [
    "Z = 975\n",
    "P = 4\n",
    "theta = 1.25\n",
    "I_a = 185\n",
    "I_d = I_a*(theta/90)\n",
    "print(I_d)"
   ]
  },
  {
   "cell_type": "markdown",
   "metadata": {},
   "source": [
    " $$or\\\\$$\n",
    " A $P_w$ kW, $V$ V, $P$ pole wave wound DC shunt motor has $Z$ armature conductors and $\\text{Comm}$ commutator segments. Its full load efficiency is $Eff\\cdot 100$% and the shunt field current is $I_f$ A. If the brushes are shifted backward by $Sh$ segments from geometrically neutral axis. Find the demagnetising ampere turns per pole."
   ]
  },
  {
   "cell_type": "code",
   "execution_count": null,
   "metadata": {},
   "outputs": [],
   "source": [
    "def ques_16():\n",
    "    A =2\n",
    "    Pw = 37 ##kw\n",
    "    V = 420 ##V\n",
    "    P = 6  ##POLES\n",
    "    Z = 732 ##conductors\n",
    "    Comm = 105 ##commutator segments\n",
    "    Eff = 0.76 ##not percent\n",
    "    If = 1 ##A\n",
    "    Sh = 1.25 ##segments\n",
    "    thetam = 360/Comm * Sh\n",
    "    Pin = Pw/Eff\n",
    "    Il = Pin*10**3/V\n",
    "    Ia = Il - If\n",
    "    I = Ia/A\n",
    "    Atd = Z*I*thetam/360\n",
    "    Atc = Z*I*(1/2*P - thetam/360)\n",
    "    return print(\"Q-16 -->The distorion ampere turns per pole\",Atd,\" AT/pole\")\n",
    "ques_16()"
   ]
  }
 ],
 "metadata": {
  "kernelspec": {
   "display_name": "base",
   "language": "python",
   "name": "python3"
  },
  "language_info": {
   "codemirror_mode": {
    "name": "ipython",
    "version": 3
   },
   "file_extension": ".py",
   "mimetype": "text/x-python",
   "name": "python",
   "nbconvert_exporter": "python",
   "pygments_lexer": "ipython3",
   "version": "3.11.4"
  }
 },
 "nbformat": 4,
 "nbformat_minor": 2
}
