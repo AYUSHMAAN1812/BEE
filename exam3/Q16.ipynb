{
 "cells": [
  {
   "cell_type": "markdown",
   "metadata": {},
   "source": [
    "A $P$ pole wave wound motor armature has $Z$ conductors and delivers $I_a$ A. The brushes have been displaced through $\\theta$ angular degrees from geometrical axis. Calculate Demagnetising ampere turns per pole."
   ]
  },
  {
   "cell_type": "code",
   "execution_count": 6,
   "metadata": {},
   "outputs": [
    {
     "name": "stdout",
     "output_type": "stream",
     "text": [
      "313.1510416666667\n"
     ]
    }
   ],
   "source": [
    "Z = 975\n",
    "P = 4\n",
    "A = 2\n",
    "theta = 1.25\n",
    "I_a = 185\n",
    "I = I_a/A\n",
    "Atd_pole = Z*I*theta/360\n",
    "Atc_pole = Z*I*(1/(2*P) - theta/360)\n",
    "print(Atd_pole)"
   ]
  },
  {
   "cell_type": "markdown",
   "metadata": {},
   "source": [
    " $$or\\\\$$\n",
    " A $P_w$ kW, $V$ V, $P$ pole wave wound DC shunt motor has $Z$ armature conductors and $\\text{Comm}$ commutator segments. Its full load efficiency is $Eff\\cdot 100$% and the shunt field current is $I_f$ A. If the brushes are shifted backward by $Sh$ segments from geometrically neutral axis. Find the demagnetising ampere turns per pole."
   ]
  },
  {
   "cell_type": "code",
   "execution_count": 5,
   "metadata": {},
   "outputs": [
    {
     "name": "stdout",
     "output_type": "stream",
     "text": [
      "Q-16 -->The distorion ampere turns per pole 320.00930596285446  AT/pole\n"
     ]
    }
   ],
   "source": [
    "def ques_16():\n",
    "    A =2\n",
    "    Pw = 37 ##kw\n",
    "    V = 440 ##V\n",
    "    P = 2  ##POLES\n",
    "    Z = 716 ##conductors\n",
    "    Comm = 155 ##commutator segments\n",
    "    Eff = 0.96 ##not percent\n",
    "    If = 1 ##A\n",
    "    Sh = 1.6 ##segments\n",
    "    thetam = 360/Comm * Sh\n",
    "    Pin = Pw/Eff\n",
    "    Il = Pin*10**3/V\n",
    "    Ia = Il - If\n",
    "    I = Ia/A\n",
    "    Atd = Z*I*thetam/360\n",
    "    Atc = Z*I*(1/2*P - thetam/360)\n",
    "    return print(\"Q-16 -->The distorion ampere turns per pole\",Atd,\" AT/pole\")\n",
    "ques_16()"
   ]
  },
  {
   "cell_type": "code",
   "execution_count": null,
   "metadata": {},
   "outputs": [],
   "source": []
  }
 ],
 "metadata": {
  "kernelspec": {
   "display_name": "base",
   "language": "python",
   "name": "python3"
  },
  "language_info": {
   "codemirror_mode": {
    "name": "ipython",
    "version": 3
   },
   "file_extension": ".py",
   "mimetype": "text/x-python",
   "name": "python",
   "nbconvert_exporter": "python",
   "pygments_lexer": "ipython3",
   "version": "3.11.4"
  }
 },
 "nbformat": 4,
 "nbformat_minor": 2
}
