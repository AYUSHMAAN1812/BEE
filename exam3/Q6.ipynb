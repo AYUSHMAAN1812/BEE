{
 "cells": [
  {
   "cell_type": "markdown",
   "metadata": {},
   "source": [
    " A long shunt compound DC generator delivers a load of 118 A at 240 V. The armature, series and shunt winding resistances are 0.084 Ω, 0.054 Ω and 55 Ω respectively. Determine the EMF generated. Allow a brush contact drop of 1 V per brush.\n"
   ]
  },
  {
   "cell_type": "markdown",
   "metadata": {},
   "source": [
    "Load current, $I_L = 118\\\\$\n",
    "Shunt Field current, $I_{sh} = \\frac{V}{R_{sh}} \\\\$ \n",
    "Series field current, $I_{s} = I_L\\\\$\n",
    "Armature current, $I_a = I_L + I_{sh}\\\\$\n",
    "Series field drop $V_s = I_s\\cdot R_s\\\\$\n",
    "Armature winding drop, $V_s = I_a\\cdot R_a\\\\$\n",
    "Brush contact drop, $V_{brushes} = V_{brush} \\cdot (number\\:of\\:brushes)\\\\$\n",
    "Terminal voltage, $V_{term} = V\\\\$\n",
    "Generated EMF $E_g = V_{term} + (I_s\\cdot R_s) + V_{brush} + (I_a\\cdot R_a)\\\\$ "
   ]
  },
  {
   "cell_type": "code",
   "execution_count": 5,
   "metadata": {},
   "outputs": [
    {
     "name": "stdout",
     "output_type": "stream",
     "text": [
      "258.65054545454547\n"
     ]
    }
   ],
   "source": [
    "I_L = 118\n",
    "V  = 240\n",
    "R_sh = 55\n",
    "R_s = 0.054\n",
    "R_a = 0.084\n",
    "V_brush  = 1\n",
    "I_sh = V/R_sh\n",
    "I_s = I_L\n",
    "I_a = I_L + I_sh\n",
    "V_s = I_s*R_s\n",
    "V_a = I_a*R_a\n",
    "V_brushes = V_brush* 2\n",
    "V_term = V\n",
    "E_g = V_term + V_s + V_brushes + V_a\n",
    "print(E_g)"
   ]
  },
  {
   "cell_type": "code",
   "execution_count": null,
   "metadata": {},
   "outputs": [],
   "source": []
  }
 ],
 "metadata": {
  "kernelspec": {
   "display_name": "base",
   "language": "python",
   "name": "python3"
  },
  "language_info": {
   "codemirror_mode": {
    "name": "ipython",
    "version": 3
   },
   "file_extension": ".py",
   "mimetype": "text/x-python",
   "name": "python",
   "nbconvert_exporter": "python",
   "pygments_lexer": "ipython3",
   "version": "3.11.4"
  }
 },
 "nbformat": 4,
 "nbformat_minor": 2
}
