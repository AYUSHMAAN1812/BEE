{
 "cells": [
  {
   "cell_type": "markdown",
   "metadata": {},
   "source": [
    "A separately excited generator when running at $N_1$ rpm supplieS $I_{L1}$ A to a resistive load at $V_1$ V. What will be the load current when the speed drops to $N_2$ rpm, if field current is unchanged. Given armature resistance is $R_a$ Ω"
   ]
  },
  {
   "cell_type": "markdown",
   "metadata": {},
   "source": [
    "Initial speed $N_1\\\\$\n",
    "New speed $N_2\\\\$\n",
    "Terminal voltage at $N_1 = V_1\\\\$\n",
    "Load current at $N_1 = I_{L1}\\\\$\n",
    "Armature resistance $R_a \\\\$\n",
    "Field current = $\\phi $= constant $\\\\$\n",
    "\n",
    "Internal generated voltage $E_{g1}$ = Terminal voltage + Voltage drop across the armature resistance = $V_1 + I_{L1}\\cdot R_a\\\\$\n",
    "Generated voltage is directly proportional to speed $\\\\$\n",
    "$$\\frac{E_{g2}}{E_{g1}} = \\frac{N_2}{N_1}\\\\$$\n",
    "\n",
    "Load Resistance $R_L = \\frac{V_1}{I_{L1}}\\\\$\n",
    "At new speed , the generator's internal voltage is $E_{g2}$. The terminal voltage $V_2$ across the load is $\\\\$\n",
    "$$V_2 = E_{g2} - I_{L2}\\cdot R_a\\\\$$\n",
    "and Ohm's law gives, $\\\\$\n",
    "$$V_2 = I_{L2}\\cdot R_{L}\\\\$$\n",
    "$$I_{L2}\\cdot R_{L} = E_{g2} - I_{L2}\\cdot R_a \\implies I_{L2}(R_L + R_a) = E_{g2} \\implies I_{L2} = \\frac{E_{g2}}{R_L + R_a}\\\\$$"
   ]
  },
  {
   "cell_type": "code",
   "execution_count": 1,
   "metadata": {},
   "outputs": [
    {
     "name": "stdout",
     "output_type": "stream",
     "text": [
      "16.40625\n"
     ]
    }
   ],
   "source": [
    "N1 = 1280\n",
    "N2 = 420\n",
    "V1 = 190\n",
    "I_L1 = 50\n",
    "R_a = 0.45\n",
    "E_g1 = V1 + I_L1*R_a\n",
    "R_L = V1/I_L1\n",
    "E_g2 = (N2/N1)*E_g1\n",
    "I_L2 = E_g2/(R_L+R_a)\n",
    "print(I_L2)"
   ]
  },
  {
   "cell_type": "code",
   "execution_count": null,
   "metadata": {},
   "outputs": [],
   "source": []
  }
 ],
 "metadata": {
  "kernelspec": {
   "display_name": "base",
   "language": "python",
   "name": "python3"
  },
  "language_info": {
   "codemirror_mode": {
    "name": "ipython",
    "version": 3
   },
   "file_extension": ".py",
   "mimetype": "text/x-python",
   "name": "python",
   "nbconvert_exporter": "python",
   "pygments_lexer": "ipython3",
   "version": "3.11.4"
  }
 },
 "nbformat": 4,
 "nbformat_minor": 2
}
