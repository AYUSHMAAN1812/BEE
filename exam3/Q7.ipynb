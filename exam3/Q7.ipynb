{
 "cells": [
  {
   "cell_type": "markdown",
   "metadata": {},
   "source": [
    "A short shunt compound generator delivers a current of 400 A at 220 V. The armature, series and shunt field resistances are 0.045 Ω, 0.03 Ω and 50 Ω respectively. Determine the EMF generated. Allow a brush contact drop of 1 V per brush."
   ]
  },
  {
   "cell_type": "markdown",
   "metadata": {},
   "source": [
    "Load current, $I_L\\\\$\n",
    "Shunt Field current, $I_{sh} = \\frac{V}{R_{sh}} \\\\$ \n",
    "Series field current, $I_{s} = I_L\\\\$\n",
    "Armature current, $I_a = I_L + I_{sh}\\\\$\n",
    "Series field drop $V_s = I_s\\cdot R_s\\\\$\n",
    "Armature winding drop, $V_s = I_a\\cdot R_a\\\\$\n",
    "Brush contact drop, $V_{brushes} = V_{brush} \\cdot (number\\:of\\:brushes)\\\\$\n",
    "Terminal voltage, $V_{term} = V\\\\$\n",
    "Generated EMF $E_g = V_{term} + (I_s\\cdot R_s) + V_{brush} + (I_a\\cdot R_a)\\\\$ "
   ]
  },
  {
   "cell_type": "code",
   "execution_count": 2,
   "metadata": {},
   "outputs": [
    {
     "name": "stdout",
     "output_type": "stream",
     "text": [
      "236.28\n"
     ]
    }
   ],
   "source": [
    "I_L = 410\n",
    "V  = 200\n",
    "R_sh = 40\n",
    "R_s = 0.033\n",
    "R_a = 0.05\n",
    "V_brush  = 1\n",
    "I_sh = V/R_sh\n",
    "I_s = I_L\n",
    "I_a = I_L + I_sh\n",
    "V_s = I_s*R_s\n",
    "V_a = I_a*R_a\n",
    "V_brushes = V_brush* 2\n",
    "V_term = V\n",
    "E_g = V_term + V_s + V_brushes + V_a\n",
    "print(E_g)"
   ]
  },
  {
   "cell_type": "markdown",
   "metadata": {},
   "source": []
  }
 ],
 "metadata": {
  "kernelspec": {
   "display_name": "base",
   "language": "python",
   "name": "python3"
  },
  "language_info": {
   "codemirror_mode": {
    "name": "ipython",
    "version": 3
   },
   "file_extension": ".py",
   "mimetype": "text/x-python",
   "name": "python",
   "nbconvert_exporter": "python",
   "pygments_lexer": "ipython3",
   "version": "3.11.4"
  }
 },
 "nbformat": 4,
 "nbformat_minor": 2
}
