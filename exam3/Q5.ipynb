{
 "cells": [
  {
   "cell_type": "markdown",
   "metadata": {},
   "source": [
    "A 400 V DC shunt motor draws a line current of 4.0 A, on no load. If armature resistanc is 0.45 Ω and field resistance is 200 Ω, determine the efficiency of the machine running as a generator delivering a load current of 32 A at 400 V."
   ]
  },
  {
   "cell_type": "markdown",
   "metadata": {},
   "source": [
    "Armature Resistance : $R_a = 0.45\\\\$\n",
    "Shunt resistance = $R_f = 200\\\\$\n",
    "No-load line current(motor line) : $I_{line} = 4\\\\$\n",
    "Rated Voltage : $V = 400\\\\$\n",
    "Load current : $I_f = 32\\\\$\n",
    "\n",
    "#### Determining No-Loss Losses from Motor Test\n",
    "Field current : $I_f = \\frac{V}{R_f}\\\\$\n",
    "Armature current at no load = $I_a^{(no\\:load)} = I_{line} -I_f\\\\$\n",
    "Input electrical power at no load = $P_{in,no\\:load} = V\\cdot I_{line}\\\\$\n",
    "Copper losses at no load = $P_f = V\\cdot I_f = I_f^2 \\cdot R_f\\\\$\n",
    "Armature copper losses at no load = $P_{a,cu(no\\:load)} = I_a^{(no\\:load)^2}\\cdot R_a\\\\$\n",
    "No load rotational losses = $P_{mech} = P_{in,no\\:load} - (P_f + P_{a,cu(no\\:load)}) \\\\$\n",
    "\n",
    "#### Machine Running as a Generator \n",
    "Generated output power $P_{out} = V\\cdot I_{load} \\\\$\n",
    "Field current $I_f = \\frac{V}{R_{sh}}\\\\$\n",
    "Armature current at no load, $I_a = I_{load}+I_f\\\\$\n",
    "Field copper loss $P_f = V\\cdot I_f\\\\$\n",
    "Armature copper loss $P_{a,cu} = I_a^2\\cdot R_a\\\\$\n",
    "Total loss $P_{loss,total} = P_f + P_{a,cu} + P_{mech}\\\\$\n",
    "$P_{in,mech} = P_{out} + P_{loss,total}\\\\$\n",
    "$\\eta = \\frac{P_{out}}{P_{in,mech}}\\\\$"
   ]
  },
  {
   "cell_type": "code",
   "execution_count": 3,
   "metadata": {},
   "outputs": [
    {
     "name": "stdout",
     "output_type": "stream",
     "text": [
      "85.91425793232777\n"
     ]
    }
   ],
   "source": [
    "R_a = 0.2\n",
    "R_f = 250\n",
    "I_line = 4.4\n",
    "I_load = 30\n",
    "V = 380\n",
    "I_f = V/R_f\n",
    "I_a_no_loss = I_line-I_f\n",
    "P_in_no_load = V*I_line\n",
    "P_f = V*I_f\n",
    "P_a_cu_no_loss = (I_a_no_loss)**2 * R_a\n",
    "P_mech = P_in_no_load - (P_f+P_a_cu_no_loss)\n",
    "P_out = V*I_load\n",
    "I_a = I_load + I_f\n",
    "P_f = V*I_f\n",
    "P_a_cu = I_a**2 * R_a\n",
    "P_loss_total = P_f + P_a_cu + P_mech\n",
    "P_in_mech = P_out + P_loss_total\n",
    "eta = P_out/P_in_mech\n",
    "print(eta*100)"
   ]
  },
  {
   "cell_type": "code",
   "execution_count": null,
   "metadata": {},
   "outputs": [],
   "source": []
  }
 ],
 "metadata": {
  "kernelspec": {
   "display_name": "base",
   "language": "python",
   "name": "python3"
  },
  "language_info": {
   "codemirror_mode": {
    "name": "ipython",
    "version": 3
   },
   "file_extension": ".py",
   "mimetype": "text/x-python",
   "name": "python",
   "nbconvert_exporter": "python",
   "pygments_lexer": "ipython3",
   "version": "3.11.4"
  }
 },
 "nbformat": 4,
 "nbformat_minor": 2
}
