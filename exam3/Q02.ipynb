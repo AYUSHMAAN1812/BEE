{
 "cells": [
  {
   "cell_type": "markdown",
   "metadata": {},
   "source": [
    "A $P$ pole lap connected DC machine has an armature resistance of $R_a$ Ω, and generate $V$ volt on no load at rated speed. Determine the armature resistance, when same machine is re-wound using simplex wave connection."
   ]
  },
  {
   "cell_type": "markdown",
   "metadata": {},
   "source": [
    "Number of parallel paths in lap winding ($A_{lap}$) is equal to Number of poles (P). $\\\\$\n",
    "Number of parallel paths in wave winding ($A_{wave}$) is always 2. $\\\\$\n",
    "Suppose the total resistance if we placed all armature conductors in series is $R_{total}\\\\$. \n",
    "\n",
    "In lap winding with P poles:  $\\\\$\n",
    "\n",
    "1. There are $P$ parallel paths, each path has $\\frac{1}{P}$ of the total conductors in series,  \n",
    "   so each path's resistance is $\\frac{R_{total}}{P}\\\\$. \n",
    "\n",
    "2. Since there are $P$ parallel paths, the net terminal armature resistance is: $\\\\$\n",
    "\n",
    "   $$\n",
    "   R_{lap} = \\frac{\\frac{R_{total}}{P}}{P}\\\\\n",
    "   $$\n",
    "   $$R_{total} = {P^2} \\cdot R_{lap}\\\\$$\n",
    "In a simplex wave winding (regardless of number of poles, but assuming simplex), there are always 2 parallel paths. Each path has half of the total conductors in series, so each path’s resistance is $\\frac{R_{total}}{2}$ .Hence, $\\\\$\n",
    "$$R_{wave} = \\frac{\\frac{R_{total}}{2}}{2} = \\frac{R_{total}}{4}\\\\$$\n",
    "\n",
    "\n",
    "​\n",
    " \n",
    "​\n",
    "\n"
   ]
  },
  {
   "cell_type": "code",
   "execution_count": 1,
   "metadata": {},
   "outputs": [
    {
     "name": "stdout",
     "output_type": "stream",
     "text": [
      "3.4\n"
     ]
    }
   ],
   "source": [
    "P = 4\n",
    "A_wave = 2\n",
    "R_a = 0.85\n",
    "R_total = P**2 * R_a\n",
    "R_wave = R_total/4\n",
    "print(R_wave)"
   ]
  },
  {
   "cell_type": "code",
   "execution_count": null,
   "metadata": {},
   "outputs": [],
   "source": []
  }
 ],
 "metadata": {
  "kernelspec": {
   "display_name": "base",
   "language": "python",
   "name": "python3"
  },
  "language_info": {
   "codemirror_mode": {
    "name": "ipython",
    "version": 3
   },
   "file_extension": ".py",
   "mimetype": "text/x-python",
   "name": "python",
   "nbconvert_exporter": "python",
   "pygments_lexer": "ipython3",
   "version": "3.11.4"
  }
 },
 "nbformat": 4,
 "nbformat_minor": 2
}
