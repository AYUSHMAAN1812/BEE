{
 "cells": [
  {
   "cell_type": "markdown",
   "metadata": {
    "vscode": {
     "languageId": "latex"
    }
   },
   "source": [
    "A DC shunt generator delivers $400$ A at 230 V. The armature and shunt winding resistances are 0.05 Ω and 50 Ω respectively. Determine the EMF generated $\\\\$"
   ]
  },
  {
   "cell_type": "markdown",
   "metadata": {},
   "source": [
    "The shunt field current is given by : $I_f = \\frac{V_{sh}}{R_{sh}} \\\\$\n",
    "Armature current  : $I_a = I_L + I_f $ where $I_L$ is the load current $\\\\$\n",
    "Voltage drop across the armature circuit : $V_a = I_a \\cdot R_a \\\\$\n",
    "Generated EMF : ${EMF}_{gen} = V_{sh} + V_a\\\\$"
   ]
  },
  {
   "cell_type": "code",
   "execution_count": 1,
   "metadata": {},
   "outputs": [
    {
     "name": "stdout",
     "output_type": "stream",
     "text": [
      "242.75027027027028\n"
     ]
    }
   ],
   "source": [
    "V_sh = 240\n",
    "R_sh = 350\n",
    "R_a = 0.7\n",
    "R_L = 74\n",
    "I_L = V_sh/R_L\n",
    "I_f = V_sh/R_sh\n",
    "I_a = I_L + I_f\n",
    "V_a = I_a*R_a\n",
    "Emf_gen = V_sh + V_a\n",
    "print(Emf_gen)"
   ]
  },
  {
   "cell_type": "markdown",
   "metadata": {},
   "source": [
    "$$\\text{or}$$ \n",
    "A 8 pole DC shunt generator with 60 wave connected armature conductors is running at 770 rpm and supplying a load of 74 Ω resistance at 240 terminal voltage. The armature resistance is 0.7 Ω and field resistance is 350 Ω. Find the emf generated in the armature."
   ]
  },
  {
   "cell_type": "markdown",
   "metadata": {},
   "source": [
    "V_sh = 240\n",
    "R_sh = 350\n",
    "R_a = 0.7\n",
    "R_L = 74\n",
    "I_L = V_sh/R_L\n",
    "I_f = V_sh/R_sh\n",
    "I_a = I_L + I_f\n",
    "V_a = I_a*R_a\n",
    "Emf_gen = V_sh + V_a\n",
    "print(Emf_gen)"
   ]
  }
 ],
 "metadata": {
  "kernelspec": {
   "display_name": "base",
   "language": "python",
   "name": "python3"
  },
  "language_info": {
   "codemirror_mode": {
    "name": "ipython",
    "version": 3
   },
   "file_extension": ".py",
   "mimetype": "text/x-python",
   "name": "python",
   "nbconvert_exporter": "python",
   "pygments_lexer": "ipython3",
   "version": "3.11.4"
  }
 },
 "nbformat": 4,
 "nbformat_minor": 2
}
