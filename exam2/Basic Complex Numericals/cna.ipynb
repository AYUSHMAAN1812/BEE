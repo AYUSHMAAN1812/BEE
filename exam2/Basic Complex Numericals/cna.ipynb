{
 "cells": [
  {
   "cell_type": "code",
   "execution_count": null,
   "metadata": {},
   "outputs": [],
   "source": [
    "import numpy as np"
   ]
  },
  {
   "cell_type": "markdown",
   "metadata": {
    "vscode": {
     "languageId": "latex"
    }
   },
   "source": [
    "Given a complex number,\n",
    "\n",
    "$$\n",
    "z = A e^{i\\pi b}$$\n"
   ]
  },
  {
   "cell_type": "code",
   "execution_count": 7,
   "metadata": {},
   "outputs": [],
   "source": [
    "def real_comp(A,b):\n",
    "    return A*np.cos(np.pi*b)"
   ]
  },
  {
   "cell_type": "code",
   "execution_count": 8,
   "metadata": {},
   "outputs": [],
   "source": [
    "def imag_comp(A,b):\n",
    "    return A*np.sin(np.pi*b)"
   ]
  },
  {
   "cell_type": "code",
   "execution_count": 9,
   "metadata": {},
   "outputs": [],
   "source": [
    "def magnitude(A):\n",
    "    return A"
   ]
  },
  {
   "cell_type": "code",
   "execution_count": 10,
   "metadata": {},
   "outputs": [],
   "source": [
    "def phase_ang_in_deg(b):\n",
    "    return b*180"
   ]
  },
  {
   "cell_type": "code",
   "execution_count": 11,
   "metadata": {},
   "outputs": [],
   "source": [
    "def conjugate(A,b):\n",
    "    return (A,-b)"
   ]
  },
  {
   "cell_type": "code",
   "execution_count": 12,
   "metadata": {},
   "outputs": [],
   "source": [
    "def add_with_conj(A,b):\n",
    "    return 2*A*np.cos(np.pi*b)"
   ]
  },
  {
   "cell_type": "code",
   "execution_count": 13,
   "metadata": {},
   "outputs": [],
   "source": [
    "def sq(A,b):\n",
    "    return (A**2,2*b)"
   ]
  },
  {
   "cell_type": "code",
   "execution_count": 14,
   "metadata": {},
   "outputs": [],
   "source": [
    "def cub(A,b):\n",
    "    return(A**3,3*b)"
   ]
  },
  {
   "cell_type": "code",
   "execution_count": 15,
   "metadata": {},
   "outputs": [],
   "source": [
    "def mul_with_j(A,b):\n",
    "    return (-A*np.sin(np.pi*b),A*np.cos(np.pi*b))"
   ]
  },
  {
   "cell_type": "code",
   "execution_count": null,
   "metadata": {},
   "outputs": [],
   "source": [
    "def z_mul_zbar(A):\n",
    "    return A**2"
   ]
  },
  {
   "cell_type": "code",
   "execution_count": 17,
   "metadata": {},
   "outputs": [],
   "source": [
    "def z_div_zbar(A,b):\n",
    "    return (np.cos(2*np.pi*b),np.sin(2*np.pi*b))"
   ]
  },
  {
   "cell_type": "code",
   "execution_count": 18,
   "metadata": {},
   "outputs": [],
   "source": [
    "def eval_the_poly(A,b,c1,c2,c3,c4):\n",
    "    return(c1*A**2*np.cos(2*np.pi*b)+c2*A*np.cos(np.pi*b)+c3, c1*A**2*np.sin(2*np.pi*b)+c2*A*np.sin(np.pi*b)+c4)"
   ]
  },
  {
   "cell_type": "code",
   "execution_count": 20,
   "metadata": {},
   "outputs": [],
   "source": [
    "def find_reci(A,b):\n",
    "    return(1/A, -b*180)"
   ]
  },
  {
   "cell_type": "code",
   "execution_count": 21,
   "metadata": {},
   "outputs": [],
   "source": [
    "def z_add_1_div_zbar(A,b):\n",
    "    return((A+1/A)*np.cos(np.pi*b),(A+1/A)*np.sin(np.pi*b))"
   ]
  },
  {
   "cell_type": "code",
   "execution_count": 22,
   "metadata": {},
   "outputs": [],
   "source": [
    "def mul_with_j_whole_bar(A,b):\n",
    "    return (-A*np.cos(np.pi*b),-A*np.sin(np.pi*b))"
   ]
  },
  {
   "cell_type": "code",
   "execution_count": 23,
   "metadata": {},
   "outputs": [],
   "source": [
    "def z_div_const_j(const, A,b):\n",
    "    return (A*np.sin(np.pi*b)/3, -A*np.cos(np.pi*b)/3)"
   ]
  },
  {
   "cell_type": "code",
   "execution_count": 24,
   "metadata": {},
   "outputs": [],
   "source": [
    "def solve(num_const, deno_const, A,b):\n",
    "    return num_const*(np.cos(np.pi*b),np.sin(np.pi*b))/(deno_const*A)"
   ]
  },
  {
   "cell_type": "code",
   "execution_count": 25,
   "metadata": {},
   "outputs": [],
   "source": [
    "def y_add_z_eq_const(const,A,b):\n",
    "    return(const-A*np.cos(np.pi*b),-A*np.sin(np.pi*b))"
   ]
  },
  {
   "cell_type": "code",
   "execution_count": 26,
   "metadata": {},
   "outputs": [],
   "source": [
    "def w_add_z_eq_const_mul_j(const,A,b):\n",
    "    return (-A*np.cos(np.pi*b),const-A*np.sin(np.pi*b))"
   ]
  },
  {
   "cell_type": "code",
   "execution_count": 27,
   "metadata": {},
   "outputs": [],
   "source": [
    "def power(A,b,expo):\n",
    "    return (A**expo)*(np.cos(expo*np.pi*b),np.sin(expo*np.pi*b))"
   ]
  },
  {
   "cell_type": "code",
   "execution_count": null,
   "metadata": {},
   "outputs": [],
   "source": []
  }
 ],
 "metadata": {
  "kernelspec": {
   "display_name": "base",
   "language": "python",
   "name": "python3"
  },
  "language_info": {
   "codemirror_mode": {
    "name": "ipython",
    "version": 3
   },
   "file_extension": ".py",
   "mimetype": "text/x-python",
   "name": "python",
   "nbconvert_exporter": "python",
   "pygments_lexer": "ipython3",
   "version": "3.11.4"
  }
 },
 "nbformat": 4,
 "nbformat_minor": 2
}
