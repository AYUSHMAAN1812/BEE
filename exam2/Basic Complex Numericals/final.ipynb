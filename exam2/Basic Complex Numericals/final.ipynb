{
 "cells": [
  {
   "cell_type": "code",
   "execution_count": 90,
   "metadata": {},
   "outputs": [],
   "source": [
    "# import numpy as np\n",
    "# A = 1.3\n",
    "# b = 5/12\n",
    "# c1 = 3\n",
    "# c2 = -11\n",
    "# c3 = 0\n",
    "# c4 = 8"
   ]
  },
  {
   "cell_type": "markdown",
   "metadata": {
    "vscode": {
     "languageId": "latex"
    }
   },
   "source": [
    "Given a complex number,\n",
    "\n",
    "$$\n",
    "z = A e^{i\\pi b}$$\n"
   ]
  },
  {
   "cell_type": "code",
   "execution_count": 91,
   "metadata": {},
   "outputs": [],
   "source": [
    "import numpy as np"
   ]
  },
  {
   "cell_type": "code",
   "execution_count": 92,
   "metadata": {},
   "outputs": [
    {
     "name": "stdout",
     "output_type": "stream",
     "text": [
      "Complex num in euler notation is of form A*e**(i*pi*b)\n",
      " \n",
      " \n",
      " \n",
      " \n",
      " \n"
     ]
    }
   ],
   "source": [
    "print(\"Complex num in euler notation is of form A*e**(i*pi*b)\")\n",
    "print(\" \")\n",
    "A=float(input(\"Enter A:\"))\n",
    "b=float(input(\"Enter b (in decimals):\"))\n",
    "print(\" \")\n",
    "c1=float(input(\"Enter coeffient of z**2 in Q12:\"))\n",
    "c2=float(input(\"Enter coeffient of z**1 in Q12:\"))\n",
    "c3=float(input(\"Enter coeffient of z in Q12:\"))\n",
    "c4=float(input(\"Enter constant multiplied with j in Q12:\"))\n",
    "print(\" \")\n",
    "deno_const=float(input(\"Enter the denominator constant multiplied with j in Q16:\"))\n",
    "print(\" \")\n",
    "num_const=float(input(\"Enter the constant multiplied with Z in Q17:\"))\n",
    "print(\" \")"
   ]
  },
  {
   "cell_type": "code",
   "execution_count": 93,
   "metadata": {},
   "outputs": [],
   "source": [
    "# Question 1\n",
    "def real_comp(A,b):\n",
    "    return A*np.cos(np.pi*b)"
   ]
  },
  {
   "cell_type": "code",
   "execution_count": 94,
   "metadata": {},
   "outputs": [
    {
     "name": "stdout",
     "output_type": "stream",
     "text": [
      "Q1: 0.3364647586595763\n"
     ]
    }
   ],
   "source": [
    "print(\"Q1:\",real_comp(A,b))"
   ]
  },
  {
   "cell_type": "code",
   "execution_count": 95,
   "metadata": {},
   "outputs": [],
   "source": [
    "# Question 2\n",
    "def imag_comp(A,b):\n",
    "    return A*np.sin(np.pi*b)"
   ]
  },
  {
   "cell_type": "code",
   "execution_count": 96,
   "metadata": {},
   "outputs": [
    {
     "name": "stdout",
     "output_type": "stream",
     "text": [
      "Q2: 1.255703574168742\n"
     ]
    }
   ],
   "source": [
    "print(\"Q2:\", imag_comp(A,b))"
   ]
  },
  {
   "cell_type": "code",
   "execution_count": 97,
   "metadata": {},
   "outputs": [],
   "source": [
    "# Question 3\n",
    "def magnitude(A):\n",
    "    return A"
   ]
  },
  {
   "cell_type": "code",
   "execution_count": 98,
   "metadata": {},
   "outputs": [
    {
     "name": "stdout",
     "output_type": "stream",
     "text": [
      "Q3: 1.3\n"
     ]
    }
   ],
   "source": [
    "print(\"Q3:\", magnitude(A))"
   ]
  },
  {
   "cell_type": "code",
   "execution_count": 99,
   "metadata": {},
   "outputs": [],
   "source": [
    "# Question 4\n",
    "def phase_ang_in_deg(b):\n",
    "    return b*180"
   ]
  },
  {
   "cell_type": "code",
   "execution_count": 100,
   "metadata": {},
   "outputs": [
    {
     "name": "stdout",
     "output_type": "stream",
     "text": [
      "Q4: 74.9999999988\n"
     ]
    }
   ],
   "source": [
    "print(\"Q4:\", phase_ang_in_deg(b))"
   ]
  },
  {
   "cell_type": "code",
   "execution_count": 101,
   "metadata": {},
   "outputs": [],
   "source": [
    "# Question 5\n",
    "def conjugate(A,b):\n",
    "    return (A,-b)"
   ]
  },
  {
   "cell_type": "code",
   "execution_count": 102,
   "metadata": {},
   "outputs": [
    {
     "name": "stdout",
     "output_type": "stream",
     "text": [
      "Q5 (1.3, -0.41666666666)\n"
     ]
    }
   ],
   "source": [
    "print(\"Q5\", conjugate(A,b))"
   ]
  },
  {
   "cell_type": "code",
   "execution_count": 103,
   "metadata": {},
   "outputs": [],
   "source": [
    "# Question 6\n",
    "def add_with_conj(A,b):\n",
    "    return 2*A*np.cos(np.pi*b)"
   ]
  },
  {
   "cell_type": "code",
   "execution_count": 104,
   "metadata": {},
   "outputs": [
    {
     "name": "stdout",
     "output_type": "stream",
     "text": [
      "Q6: 0.6729295173191526\n"
     ]
    }
   ],
   "source": [
    "print(\"Q6:\",add_with_conj(A,b))"
   ]
  },
  {
   "cell_type": "code",
   "execution_count": 105,
   "metadata": {},
   "outputs": [],
   "source": [
    "# Question 7\n",
    "def sq(A,b):\n",
    "    return (A**2,2*b)"
   ]
  },
  {
   "cell_type": "code",
   "execution_count": 106,
   "metadata": {},
   "outputs": [
    {
     "name": "stdout",
     "output_type": "stream",
     "text": [
      "Q7: (1.6900000000000002, 0.83333333332)\n"
     ]
    }
   ],
   "source": [
    "print(\"Q7:\",sq(A,b))"
   ]
  },
  {
   "cell_type": "code",
   "execution_count": 107,
   "metadata": {},
   "outputs": [],
   "source": [
    "# Question 8\n",
    "def cub(A,b):\n",
    "    return(A**3,3*b)"
   ]
  },
  {
   "cell_type": "code",
   "execution_count": 108,
   "metadata": {},
   "outputs": [
    {
     "name": "stdout",
     "output_type": "stream",
     "text": [
      "Q8: (2.197, 1.24999999998)\n"
     ]
    }
   ],
   "source": [
    "print(\"Q8:\", cub(A,b))"
   ]
  },
  {
   "cell_type": "code",
   "execution_count": 109,
   "metadata": {},
   "outputs": [],
   "source": [
    "# Question 9\n",
    "def mul_with_j(A,b):\n",
    "    return (-A*np.sin(np.pi*b),A*np.cos(np.pi*b))"
   ]
  },
  {
   "cell_type": "code",
   "execution_count": 110,
   "metadata": {},
   "outputs": [
    {
     "name": "stdout",
     "output_type": "stream",
     "text": [
      "Q9: (-1.255703574168742, 0.3364647586595763)\n"
     ]
    }
   ],
   "source": [
    "print(\"Q9:\",mul_with_j(A,b))"
   ]
  },
  {
   "cell_type": "code",
   "execution_count": 111,
   "metadata": {},
   "outputs": [],
   "source": [
    "# Question 10\n",
    "def z_mul_zbar(A):\n",
    "    return A**2"
   ]
  },
  {
   "cell_type": "code",
   "execution_count": 112,
   "metadata": {},
   "outputs": [
    {
     "name": "stdout",
     "output_type": "stream",
     "text": [
      "Q10: 1.6900000000000002\n"
     ]
    }
   ],
   "source": [
    "print(\"Q10:\", z_mul_zbar(A))"
   ]
  },
  {
   "cell_type": "code",
   "execution_count": 113,
   "metadata": {},
   "outputs": [],
   "source": [
    "# Question 11\n",
    "def z_div_zbar(A,b):\n",
    "    return (np.cos(2*np.pi*b),np.sin(2*np.pi*b))"
   ]
  },
  {
   "cell_type": "code",
   "execution_count": 114,
   "metadata": {},
   "outputs": [
    {
     "name": "stdout",
     "output_type": "stream",
     "text": [
      "Q11: (-0.8660254037634948, 0.5000000000362759)\n"
     ]
    }
   ],
   "source": [
    "print(\"Q11:\",z_div_zbar(A,b))"
   ]
  },
  {
   "cell_type": "code",
   "execution_count": 115,
   "metadata": {},
   "outputs": [],
   "source": [
    "# Question 12\n",
    "def eval_the_poly(A,b,c1,c2,c3,c4):\n",
    "    return(c1*A**2*np.cos(2*np.pi*b)+c2*A*np.cos(np.pi*b)+c3, c1*A**2*np.sin(2*np.pi*b)+c2*A*np.sin(np.pi*b)+c4)"
   ]
  },
  {
   "cell_type": "code",
   "execution_count": 116,
   "metadata": {},
   "outputs": [
    {
     "name": "stdout",
     "output_type": "stream",
     "text": [
      "Q12: (-8.091861142336258, -3.2777393156722425)\n"
     ]
    }
   ],
   "source": [
    "print(\"Q12:\",eval_the_poly(A,b,c1,c2,c3,c4))"
   ]
  },
  {
   "cell_type": "code",
   "execution_count": 117,
   "metadata": {},
   "outputs": [],
   "source": [
    "# Question 13\n",
    "def find_reci(A,b):\n",
    "    if abs(-b*180)<180:\n",
    "        return(1/A, -b*180)\n",
    "    else:\n",
    "        return(1/A, (-b*180)- np.copysign(360, (-b*180)))"
   ]
  },
  {
   "cell_type": "code",
   "execution_count": 118,
   "metadata": {},
   "outputs": [
    {
     "name": "stdout",
     "output_type": "stream",
     "text": [
      "Q13: (0.7692307692307692, -74.9999999988)\n"
     ]
    }
   ],
   "source": [
    "print(\"Q13:\", find_reci(A,b))"
   ]
  },
  {
   "cell_type": "code",
   "execution_count": 119,
   "metadata": {},
   "outputs": [],
   "source": [
    "# Question 14\n",
    "def z_add_1_div_zbar(A,b):\n",
    "    return((A+1/A)*np.cos(np.pi*b),(A+1/A)*np.sin(np.pi*b))"
   ]
  },
  {
   "cell_type": "code",
   "execution_count": 120,
   "metadata": {},
   "outputs": [
    {
     "name": "stdout",
     "output_type": "stream",
     "text": [
      "Q14: (0.5355563318309232, 1.9987234405407783)\n"
     ]
    }
   ],
   "source": [
    "print(\"Q14:\", z_add_1_div_zbar(A,b))"
   ]
  },
  {
   "cell_type": "code",
   "execution_count": 121,
   "metadata": {},
   "outputs": [],
   "source": [
    "# Question 15\n",
    "def mul_with_j_whole_bar(A,b):\n",
    "    if abs(-(1/2 + b)*180)<180:\n",
    "        return(A, -(1/2 + b)*180)\n",
    "    else:\n",
    "        return(A, (-(1/2 + b)*180)- np.copysign(360, (-(1/2 + b)*180)))"
   ]
  },
  {
   "cell_type": "code",
   "execution_count": 122,
   "metadata": {},
   "outputs": [
    {
     "name": "stdout",
     "output_type": "stream",
     "text": [
      "Q15: (1.3, -164.9999999988)\n"
     ]
    }
   ],
   "source": [
    "print(\"Q15:\" ,mul_with_j_whole_bar(A,b))"
   ]
  },
  {
   "cell_type": "code",
   "execution_count": 123,
   "metadata": {},
   "outputs": [],
   "source": [
    "# Question 16\n",
    "def z_div_const_j(deno_const, A,b):\n",
    "    return (A/deno_const, (b-0.5)*180)"
   ]
  },
  {
   "cell_type": "code",
   "execution_count": 124,
   "metadata": {},
   "outputs": [
    {
     "name": "stdout",
     "output_type": "stream",
     "text": [
      "Q16: (0.43333333333333335, -15.000000001199997)\n"
     ]
    }
   ],
   "source": [
    "print(\"Q16:\", z_div_const_j(deno_const,A,b))"
   ]
  },
  {
   "cell_type": "code",
   "execution_count": 125,
   "metadata": {},
   "outputs": [],
   "source": [
    "# Question 17\n",
    "def solve(num_const, A,b):\n",
    "    const = num_const/(A)\n",
    "    return (const,b*180)"
   ]
  },
  {
   "cell_type": "code",
   "execution_count": 126,
   "metadata": {},
   "outputs": [
    {
     "name": "stdout",
     "output_type": "stream",
     "text": [
      "Q17: (18.46153846153846, 74.9999999988)\n"
     ]
    }
   ],
   "source": [
    "print(\"Q17:\",solve(num_const, A,b))"
   ]
  },
  {
   "cell_type": "code",
   "execution_count": 127,
   "metadata": {},
   "outputs": [],
   "source": [
    "# Question 18\n",
    "def y_add_z_eq_const(const,A,b):\n",
    "    return(const-A*np.cos(np.pi*b),-A*np.sin(np.pi*b))"
   ]
  },
  {
   "cell_type": "code",
   "execution_count": 128,
   "metadata": {},
   "outputs": [
    {
     "name": "stdout",
     "output_type": "stream",
     "text": [
      "Q18: (-1.3364647586595764, -1.255703574168742)\n"
     ]
    }
   ],
   "source": [
    "const =  -1\n",
    "print(\"Q18:\",y_add_z_eq_const(const,A,b))"
   ]
  },
  {
   "cell_type": "code",
   "execution_count": 129,
   "metadata": {},
   "outputs": [],
   "source": [
    "# Question 19\n",
    "def w_add_z_eq_const_mul_j(const,A,b):\n",
    "    return (-A*np.cos(np.pi*b),const-A*np.sin(np.pi*b))"
   ]
  },
  {
   "cell_type": "code",
   "execution_count": 130,
   "metadata": {},
   "outputs": [
    {
     "name": "stdout",
     "output_type": "stream",
     "text": [
      "Q19: (-0.3364647586595763, -0.2557035741687419)\n"
     ]
    }
   ],
   "source": [
    "const = 1\n",
    "print(\"Q19:\", w_add_z_eq_const_mul_j(const,A,b))"
   ]
  },
  {
   "cell_type": "code",
   "execution_count": 131,
   "metadata": {},
   "outputs": [],
   "source": [
    "# Question 20\n",
    "def power(A,b,expo):\n",
    "    const = (A**expo)\n",
    "    return (const*np.cos(expo*np.pi*b),const*np.sin(expo*np.pi*b))"
   ]
  },
  {
   "cell_type": "code",
   "execution_count": 132,
   "metadata": {},
   "outputs": [
    {
     "name": "stdout",
     "output_type": "stream",
     "text": [
      "Q20: (36.193892062723364, 36.193892039982074)\n"
     ]
    }
   ],
   "source": [
    "print(\"Q20:\", power(A,b,15))"
   ]
  },
  {
   "cell_type": "code",
   "execution_count": null,
   "metadata": {},
   "outputs": [],
   "source": []
  }
 ],
 "metadata": {
  "kernelspec": {
   "display_name": "base",
   "language": "python",
   "name": "python3"
  },
  "language_info": {
   "codemirror_mode": {
    "name": "ipython",
    "version": 3
   },
   "file_extension": ".py",
   "mimetype": "text/x-python",
   "name": "python",
   "nbconvert_exporter": "python",
   "pygments_lexer": "ipython3",
   "version": "3.11.4"
  }
 },
 "nbformat": 4,
 "nbformat_minor": 4
}
