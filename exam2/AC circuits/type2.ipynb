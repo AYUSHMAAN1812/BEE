{
 "cells": [
  {
   "cell_type": "markdown",
   "metadata": {},
   "source": [
    "![Circuit Diagram](image2.png)\n",
    "\n",
    "The impedance $Z_1$ consists of a resistance of $A \\, \\Omega$, and inductance of $B \\, \\text{mH}$.\n",
    "The impedance $Z_2$ consists of a resistance of $C \\, \\Omega$, and capacitance of $D \\, \\mu\\text{F}$.\n",
    "The impedance $Z_3$ consists of a resistance of $E \\, \\Omega$, and inductance of $F \\, \\text{mH}$.\n",
    "\n",
    "The voltage source is $G \\angle H^\\circ \\, \\text{V}$ at $J \\, \\text{Hz}$.\n"
   ]
  },
  {
   "cell_type": "code",
   "execution_count": 14,
   "metadata": {},
   "outputs": [],
   "source": [
    "import numpy as np"
   ]
  },
  {
   "cell_type": "code",
   "execution_count": 15,
   "metadata": {},
   "outputs": [],
   "source": [
    "r1=float(input((\"R1:\")))\n",
    "l1=float(input((\"L1 (in mH):\")))\n",
    "l1*=1e-3\n",
    "r2=float(input((\"R2:\")))\n",
    "c2=float(input((\"C2 (in micro-F):\")))\n",
    "c2*=1e-6\n",
    "r3=float(input((\"R3:\")))\n",
    "l3=float(input((\"L3 (in mH):\")))        \n",
    "l3*=1e-3"
   ]
  },
  {
   "cell_type": "code",
   "execution_count": 16,
   "metadata": {},
   "outputs": [],
   "source": [
    "v= float(input(\"Voltage: \"))\n",
    "freq=float(input(\"Freq:\"))\n",
    "w=freq*2*np.pi\n",
    "phase=float(input(\"Phase (in deg):\"))\n",
    "phase*=np.pi/180"
   ]
  },
  {
   "cell_type": "code",
   "execution_count": 17,
   "metadata": {},
   "outputs": [
    {
     "name": "stdout",
     "output_type": "stream",
     "text": [
      "1) Total impedance:  35.0 48.153117601124535\n"
     ]
    }
   ],
   "source": [
    "req=r1+r2+r3\n",
    "leq=w*(l1+l3)\n",
    "ceq=1/(w*c2)\n",
    "phase_actual=np.arctan((leq-ceq)/req)\n",
    "imp=(req**2)+((leq-ceq)**2)\n",
    "imp=imp**0.5\n",
    "print(\"1) Total impedance: \", req, leq-ceq)"
   ]
  },
  {
   "cell_type": "code",
   "execution_count": 18,
   "metadata": {},
   "outputs": [
    {
     "name": "stdout",
     "output_type": "stream",
     "text": [
      "2) Total current: (3.342828879534814, -2.25379422167185)\n"
     ]
    }
   ],
   "source": [
    "i=v/imp\n",
    "i=(i*np.cos(phase - np.copysign(phase_actual, leq-ceq)), i*np.sin(phase - np.copysign(phase_actual, leq-ceq)))\n",
    "print(\"2) Total current:\",i)"
   ]
  },
  {
   "cell_type": "code",
   "execution_count": 19,
   "metadata": {},
   "outputs": [
    {
     "name": "stdout",
     "output_type": "stream",
     "text": [
      "3) Voltage across Z2: -42.81148990652647 -186.09998512628468\n"
     ]
    }
   ],
   "source": [
    "print(\"3) Voltage across Z2:\", (i[0]*r2)+i[1]*(1/(w*c2)), (i[1]*r2)-i[0]*(1/(w*c2)))"
   ]
  },
  {
   "cell_type": "code",
   "execution_count": 20,
   "metadata": {},
   "outputs": [
    {
     "name": "stdout",
     "output_type": "stream",
     "text": [
      "4) Voltage across nodes A and C: 146.8985005497165 15.947302078659334\n"
     ]
    }
   ],
   "source": [
    "# phase_q4=np.arctan(((w*l1)-(1/(w*c2)))/(r1+r2))\n",
    "# z_q4=((((w*l1)-(1/(w*c2)))**2)+((r1+r2)**2))**0.5\n",
    "print(\"4) Voltage across nodes A and C:\", (i[0]*(r1+r2))-i[1]*((w*l1)-(1/(w*c2))), (i[1]*(r1+r2))+i[0]*((w*l1)-(1/(w*c2))))"
   ]
  },
  {
   "cell_type": "code",
   "execution_count": 21,
   "metadata": {},
   "outputs": [
    {
     "name": "stdout",
     "output_type": "stream",
     "text": [
      "5) Power factor:  0.5879469976020167\n"
     ]
    }
   ],
   "source": [
    "print(\"5) Power factor: \", np.cos(phase_actual))"
   ]
  },
  {
   "cell_type": "code",
   "execution_count": 22,
   "metadata": {},
   "outputs": [
    {
     "name": "stdout",
     "output_type": "stream",
     "text": [
      "6) Reactive power:  718.5886933336359\n"
     ]
    }
   ],
   "source": [
    "print(\"6) Reactive power: \", ((i[0]**2)+(i[1]**2))*(1/(w*c2)))"
   ]
  },
  {
   "cell_type": "code",
   "execution_count": 23,
   "metadata": {},
   "outputs": [
    {
     "name": "stdout",
     "output_type": "stream",
     "text": [
      "7) Energy used by Z1 in 500 min:  1.4899585535535615\n"
     ]
    }
   ],
   "source": [
    "phase_z1=np.arctan(w*l1/r1)\n",
    "z1=((r1**2)+(w*(l1))**2)**0.5\n",
    "print(\"7) Energy used by Z1 in 500 min: \", 500*((i[0]**2)+(i[1]**2))*(r1)/(1e3*60))"
   ]
  },
  {
   "cell_type": "code",
   "execution_count": 24,
   "metadata": {},
   "outputs": [
    {
     "name": "stdout",
     "output_type": "stream",
     "text": [
      "Capacitance:  3.604404776763852e-05\n"
     ]
    }
   ],
   "source": [
    "if phase_actual>0:\n",
    "    print(\"Capacitance: \", np.sin(phase_actual)/(imp*w))\n",
    "else:\n",
    "    print(\"Inductance: \", imp/(w*np.sin(phase_actual)))"
   ]
  },
  {
   "cell_type": "code",
   "execution_count": 25,
   "metadata": {},
   "outputs": [
    {
     "name": "stdout",
     "output_type": "stream",
     "text": [
      "9) Active power loss ratio:  0.20000000000000004\n"
     ]
    }
   ],
   "source": [
    "z3=((r3**2)+(w*l3)**2)**0.5\n",
    "phase_z3=np.arctan(w*l3/r3)\n",
    "print(\"9) Active power loss ratio: \", ((i[0]**2)+(i[1]**2))*(r3)/(((i[0]**2)+(i[1]**2))*(r3+r2+r1)))"
   ]
  },
  {
   "cell_type": "code",
   "execution_count": 26,
   "metadata": {},
   "outputs": [
    {
     "name": "stdout",
     "output_type": "stream",
     "text": [
      "Voltage_ac leads by 79.57213679258741 degrees\n"
     ]
    }
   ],
   "source": [
    "phase_ac=np.arctan(((w*l1)-(1/(w*c2)))/(r1+r2))\n",
    "phase_bd=np.arctan(((w*l3)-(1/(w*c2)))/(r3+r2))\n",
    "print(\"Voltage_ac leads by\", (-phase_bd+phase_ac)*180/np.pi, \"degrees\")"
   ]
  },
  {
   "cell_type": "code",
   "execution_count": null,
   "metadata": {},
   "outputs": [],
   "source": []
  }
 ],
 "metadata": {
  "kernelspec": {
   "display_name": "base",
   "language": "python",
   "name": "python3"
  },
  "language_info": {
   "codemirror_mode": {
    "name": "ipython",
    "version": 3
   },
   "file_extension": ".py",
   "mimetype": "text/x-python",
   "name": "python",
   "nbconvert_exporter": "python",
   "pygments_lexer": "ipython3",
   "version": "3.11.4"
  }
 },
 "nbformat": 4,
 "nbformat_minor": 4
}
