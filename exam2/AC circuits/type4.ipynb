{
 "cells": [
  {
   "cell_type": "code",
   "execution_count": 45,
   "metadata": {},
   "outputs": [],
   "source": [
    "import numpy as np\n",
    "# A = 13\n",
    "# B = 180\n",
    "# C = 17\n",
    "# D = 90\n",
    "# E = 6\n",
    "# F = 80\n",
    "# G = 280\n",
    "# H = 80\n",
    "# J = 50\n",
    "# t = 200\n",
    "\n",
    "A = int(input(\"Enter the value of Resistance in Z1(in ohms): \"))\n",
    "B = int(input(\"Enter the value of Inductance in Z1(in mH): \"))\n",
    "C = int(input(\"Enter the value of Resistance in Z2(in ohms): \"))\n",
    "D = int(input(\"Enter the value of Capacitance in Z2(in uF):\"))\n",
    "E = int(input(\"Enter the value of Resistance in Z3(in ohms): \"))\n",
    "F = int(input(\"Enter the value of Inductance in Z3(in mH): \"))\n",
    "G = int(input(\"Enter the voltage value: \"))\n",
    "H = int(input(\"Enter the phase of the voltage(in degrees): \"))\n",
    "J = int(input(\"Enter the frequency of the voltage(in Hz): \"))\n",
    "t = int(input(\"Enter the time for calculating the energy (in mins)\"))"
   ]
  },
  {
   "cell_type": "markdown",
   "metadata": {},
   "source": [
    "![Circuit Diagram](image4.png)\n",
    "\n",
    "The impedance $Z_1$ consists of a resistance of $A \\, \\Omega$, and an inductance of $B \\, \\text{mH}$.\n",
    "The impedance $Z_2$ consists of a resistance of $C \\, \\Omega$, and a capacitance of $D \\, \\mu\\text{F}$.\n",
    "The impedance $Z_3$ consists of a resistance of $E \\, \\Omega$, and an inductance of $F \\, \\text{mH}$.\n",
    "\n",
    "The voltage source is $G \\angle H^\\circ \\, \\text{V}$ at $J \\, \\text{Hz}$.\n"
   ]
  },
  {
   "cell_type": "code",
   "execution_count": 66,
   "metadata": {},
   "outputs": [],
   "source": [
    "# Question 1\n",
    "def tot_imp_in_rec_coord(A,B,C,D,E,F,G,H,J):   \n",
    "    X_L_1 = 2*np.pi*J*B*1e-3\n",
    "    X_L_2 = 2*np.pi*J*F*1e-3\n",
    "    X_C = 1/(2*np.pi*J*D*1e-6)\n",
    "    deno = ((C+E)**2+(X_C-X_L_2)**2)\n",
    "    a = ((C*E+X_C*X_L_2)*(C+E) + (C*X_L_2-E*X_C)*(X_L_2-X_C))/deno + A\n",
    "    b = ((C*X_L_2-E*X_C)*(C+E) - (X_L_2-X_C)*(C*E+X_C*X_L_2))/deno + X_L_1\n",
    "    return(a,b)\n",
    "# DISPLAYED IN (A,B) FOR A + iB"
   ]
  },
  {
   "cell_type": "code",
   "execution_count": 67,
   "metadata": {},
   "outputs": [
    {
     "name": "stdout",
     "output_type": "stream",
     "text": [
      "(45.48791606369803+80.35582461520676j)\n"
     ]
    }
   ],
   "source": [
    "a,b = tot_imp_in_rec_coord(A,B,C,D,E,F,G,H,J)\n",
    "print(complex(a,b))"
   ]
  },
  {
   "cell_type": "code",
   "execution_count": 68,
   "metadata": {},
   "outputs": [],
   "source": [
    "# Question 2\n",
    "def curr_I1(A,B,C,D,E,F,G,H,J):\n",
    "    a,b = tot_imp_in_rec_coord(A,B,C,D,E,F,G,H,J)\n",
    "    angle = H*np.pi/180\n",
    "    coeff = (G/(a**2 + b**2))\n",
    "    c = coeff*(a*np.cos(angle) + b*np.sin(angle))\n",
    "    d = coeff*(a*np.sin(angle) - b*np.cos(angle))\n",
    "    return (c,d)"
   ]
  },
  {
   "cell_type": "code",
   "execution_count": 69,
   "metadata": {},
   "outputs": [
    {
     "name": "stdout",
     "output_type": "stream",
     "text": [
      "(2.858187152463388+1.0128884611489803j)\n"
     ]
    }
   ],
   "source": [
    "c,d = curr_I1(A,B,C,D,E,F,G,H,J)\n",
    "print(complex(c,d))"
   ]
  },
  {
   "cell_type": "code",
   "execution_count": 70,
   "metadata": {},
   "outputs": [],
   "source": [
    "# Question 3\n",
    "def vol_across_Z2(A,B,C,D,E,F,G,H,J):\n",
    "    angle = H*np.pi/180\n",
    "    X_L_1 = 2*np.pi*J*B*1e-3\n",
    "    \n",
    "    c,d = curr_I1(A,B,C,D,E,F,G,H,J)\n",
    "    e = G*np.cos(angle) + (d*X_L_1-A*c)\n",
    "    f = (G*np.sin(angle)-X_L_1*c - A*d)\n",
    "    return (e,f)\n",
    "\n",
    "def mag_vol(A,B,C,D,E,F,G,H,J):\n",
    "    e,f = vol_across_Z2(A,B,C,D,E,F,G,H,J)\n",
    "    return np.sqrt(e**2+f**2)"
   ]
  },
  {
   "cell_type": "code",
   "execution_count": 71,
   "metadata": {},
   "outputs": [
    {
     "name": "stdout",
     "output_type": "stream",
     "text": [
      "122.13448893983835\n"
     ]
    }
   ],
   "source": [
    "print(mag_vol(A,B,C,D,E,F,G,H,J))"
   ]
  },
  {
   "cell_type": "code",
   "execution_count": 72,
   "metadata": {},
   "outputs": [],
   "source": [
    "# Question 4\n",
    "def power_factor(A,B,C,D,E,F,G,H,J):\n",
    "    a,b = tot_imp_in_rec_coord(A,B,C,D,E,F,G,H,J)\n",
    "    return np.cos(np.arctan(b/a))\n",
    "# if negative then the voltage is lagging, else leading\n",
    "# if negative then the current if leading, else lagging"
   ]
  },
  {
   "cell_type": "code",
   "execution_count": 73,
   "metadata": {},
   "outputs": [
    {
     "name": "stdout",
     "output_type": "stream",
     "text": [
      "0.49262682006931596\n"
     ]
    }
   ],
   "source": [
    "print(power_factor(A,B,C,D,E,F,G,H,J))"
   ]
  },
  {
   "cell_type": "code",
   "execution_count": 74,
   "metadata": {},
   "outputs": [],
   "source": [
    "# Question 5\n",
    "def pow_fac_equal_1(A,B,C,D,E,F,G,H,J):\n",
    "    a,b = tot_imp_in_rec_coord(A,B,C,D,E,F,G,H,J)\n",
    "    X = -(a**2+b**2)/b\n",
    "    if(X < 0):\n",
    "        X = abs(X)\n",
    "        print(\"Capacitance\")\n",
    "        return 1e6/(2*np.pi*J*X)\n",
    "    else:\n",
    "        print(\"Inductance\")\n",
    "        return 1e3*X/2*np.pi*J\n",
    "# if negative then capacitive, else inductive"
   ]
  },
  {
   "cell_type": "code",
   "execution_count": 75,
   "metadata": {},
   "outputs": [
    {
     "name": "stdout",
     "output_type": "stream",
     "text": [
      "Capacitance\n",
      "29.99932703414994\n"
     ]
    }
   ],
   "source": [
    "print(pow_fac_equal_1(A,B,C,D,E,F,G,H,J))"
   ]
  },
  {
   "cell_type": "code",
   "execution_count": 76,
   "metadata": {},
   "outputs": [],
   "source": [
    "# Question 6\n",
    "def phase_ang_diff(A,B,C,D,E,F,G,H,J):\n",
    "    X_C = 1/(2*np.pi*J*D*1e-6)\n",
    "    phase = np.arctan(X_C/C)\n",
    "    return phase*180/np.pi\n",
    "\n",
    "# if negative then the voltage is leading, else lagging\n",
    "    "
   ]
  },
  {
   "cell_type": "code",
   "execution_count": 77,
   "metadata": {},
   "outputs": [
    {
     "name": "stdout",
     "output_type": "stream",
     "text": [
      "Phase of I2 - phase of V3:  64.328096916864\n"
     ]
    }
   ],
   "source": [
    "print(\"Phase of I2 - phase of V3: \",phase_ang_diff(A,B,C,D,E,F,G,H,J))"
   ]
  },
  {
   "cell_type": "code",
   "execution_count": 78,
   "metadata": {},
   "outputs": [],
   "source": [
    "# Question 7\n",
    "def power_loss_percentage(A,B,C,D,E,F,G,H,J):\n",
    "    X_C = 1/(2*np.pi*J*D*1e-6)\n",
    "    X_L_2 = 2*np.pi*J*F*1e-3\n",
    "    a,b = tot_imp_in_rec_coord(A,B,C,D,E,F,G,H,J)\n",
    "    c,d = curr_I1(A,B,C,D,E,F,G,H,J)\n",
    "    e,f = vol_across_Z2(A,B,C,D,E,F,G,H,J)\n",
    "    coeff1 = C**2 + X_C**2\n",
    "    coeff2 = E**2 + X_L_2**2\n",
    "    m = (e*C - f*X_C)/coeff1\n",
    "    n = (f*C + e*X_C)/coeff1\n",
    "    p = (e*E + f*X_L_2)/coeff2\n",
    "    q = (f*E - e*X_L_2)/coeff2\n",
    "    \n",
    "    return (m**2+n**2)*C*100/((c**2+d**2)*A + (m**2+n**2)*C + (p**2+q**2)*E)"
   ]
  },
  {
   "cell_type": "code",
   "execution_count": 79,
   "metadata": {},
   "outputs": [
    {
     "name": "stdout",
     "output_type": "stream",
     "text": [
      "39.371584288216596\n"
     ]
    }
   ],
   "source": [
    "print(power_loss_percentage(A,B,C,D,E,F,G,H,J))"
   ]
  },
  {
   "cell_type": "code",
   "execution_count": 80,
   "metadata": {},
   "outputs": [],
   "source": [
    "# Question 8\n",
    "def react_power(A,B,C,D,E,F,G,H,J):\n",
    "\n",
    "    X_C = 1/(2*np.pi*J*D*1e-6)\n",
    "    e,f = vol_across_Z2(A,B,C,D,E,F,G,H,J)\n",
    "    coeff1 = C**2 + X_C**2\n",
    "    m = (e*C - f*X_C)/coeff1\n",
    "    n = (f*C + e*X_C)/coeff1\n",
    "    return (m**2+n**2)*X_C"
   ]
  },
  {
   "cell_type": "code",
   "execution_count": 81,
   "metadata": {},
   "outputs": [
    {
     "name": "stdout",
     "output_type": "stream",
     "text": [
      "342.60816905277403\n"
     ]
    }
   ],
   "source": [
    "print(react_power(A,B,C,D,E,F,G,H,J))"
   ]
  },
  {
   "cell_type": "code",
   "execution_count": 82,
   "metadata": {},
   "outputs": [],
   "source": [
    "# Question 9\n",
    "def energy_consump(A,B,C,D,E,F,G,H,J,t):\n",
    "    c,d = curr_I1(A,B,C,D,E,F,G,H,J)\n",
    "    energy = (c**2+d**2)*A*t/(60000)\n",
    "    return energy"
   ]
  },
  {
   "cell_type": "code",
   "execution_count": 83,
   "metadata": {},
   "outputs": [
    {
     "name": "stdout",
     "output_type": "stream",
     "text": [
      "0.3984576627735393\n"
     ]
    }
   ],
   "source": [
    "print(energy_consump(A,B,C,D,E,F,G,H,J,t))"
   ]
  },
  {
   "cell_type": "code",
   "execution_count": 84,
   "metadata": {},
   "outputs": [],
   "source": [
    "# Question 10\n",
    "def Vab_and_Vac(A,B,C,D,E,F,G,H,J):\n",
    "    # Vab - Vac\n",
    "    c,d = curr_I1(A,B,C,D,E,F,G,H,J)\n",
    "    X_L_1 = 2*np.pi*J*B*1e-3\n",
    "    if (((X_L_1*c+A*d)/(A*c-X_L_1*d)) < 0):\n",
    "        return (180 - np.arctan(abs((X_L_1*c+A*d)/(A*c-X_L_1*d)))*180/np.pi - H)\n",
    "    else:\n",
    "        return (np.arctan(abs((X_L_1*c+A*d)/(A*c-X_L_1*d)))*180/np.pi - H)\n",
    "    "
   ]
  },
  {
   "cell_type": "code",
   "execution_count": 85,
   "metadata": {},
   "outputs": [
    {
     "name": "stdout",
     "output_type": "stream",
     "text": [
      "Vab - Vac =  16.566577302593686\n"
     ]
    }
   ],
   "source": [
    "print(\"Vab - Vac = \",Vab_and_Vac(A,B,C,D,E,F,G,H,J))"
   ]
  },
  {
   "cell_type": "code",
   "execution_count": null,
   "metadata": {},
   "outputs": [],
   "source": []
  }
 ],
 "metadata": {
  "kernelspec": {
   "display_name": "base",
   "language": "python",
   "name": "python3"
  },
  "language_info": {
   "codemirror_mode": {
    "name": "ipython",
    "version": 3
   },
   "file_extension": ".py",
   "mimetype": "text/x-python",
   "name": "python",
   "nbconvert_exporter": "python",
   "pygments_lexer": "ipython3",
   "version": "3.11.4"
  }
 },
 "nbformat": 4,
 "nbformat_minor": 2
}
