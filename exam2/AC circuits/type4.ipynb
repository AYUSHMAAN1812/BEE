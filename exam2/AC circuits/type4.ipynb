{
 "cells": [
  {
   "cell_type": "code",
   "execution_count": 160,
   "metadata": {},
   "outputs": [],
   "source": [
    "import numpy as np\n",
    "A = 13\n",
    "B = 180\n",
    "C = 17\n",
    "D = 90\n",
    "E = 6\n",
    "F = 80\n",
    "G = 280\n",
    "H = 80\n",
    "J = 50\n",
    "t = 200"
   ]
  },
  {
   "cell_type": "markdown",
   "metadata": {},
   "source": [
    "![Circuit Diagram](image4.png)\n",
    "\n",
    "The impedance $Z_1$ consists of a resistance of $A \\, \\Omega$, and an inductance of $B \\, \\text{mH}$.\n",
    "The impedance $Z_2$ consists of a resistance of $C \\, \\Omega$, and a capacitance of $D \\, \\mu\\text{F}$.\n",
    "The impedance $Z_3$ consists of a resistance of $E \\, \\Omega$, and an inductance of $F \\, \\text{mH}$.\n",
    "\n",
    "The voltage source is $G \\angle H^\\circ \\, \\text{V}$ at $J \\, \\text{Hz}$.\n"
   ]
  },
  {
   "cell_type": "code",
   "execution_count": 113,
   "metadata": {},
   "outputs": [],
   "source": [
    "def tot_imp_in_rec_coord(A,B,C,D,E,F,G,H,J):   \n",
    "    X_L_1 = 2*np.pi*J*B*1e-3\n",
    "    X_L_2 = 2*np.pi*J*F*1e-3\n",
    "    X_C = 1/(2*np.pi*J*D*1e-6)\n",
    "    deno = ((C+E)**2+(X_C-X_L_2)**2)\n",
    "    a = ((C*E+X_C*X_L_2)*(C+E) + (C*X_L_2-E*X_C)*(X_L_2-X_C))/deno + A\n",
    "    b = ((C*X_L_2-E*X_C)*(C+E) - (X_L_2-X_C)*(C*E+X_C*X_L_2))/deno + X_L_1\n",
    "    return(a,b)\n",
    "# DISPLAYED IN (A,B) FOR A + iB"
   ]
  },
  {
   "cell_type": "code",
   "execution_count": 114,
   "metadata": {},
   "outputs": [
    {
     "data": {
      "text/plain": [
       "(45.48791606369803, 80.35582461520676)"
      ]
     },
     "execution_count": 114,
     "metadata": {},
     "output_type": "execute_result"
    }
   ],
   "source": [
    "tot_imp_in_rec_coord(A,B,C,D,E,F,G,H,J)"
   ]
  },
  {
   "cell_type": "code",
   "execution_count": 115,
   "metadata": {},
   "outputs": [],
   "source": [
    "def curr_I1(A,B,C,D,E,F,G,H,J):\n",
    "    a,b = tot_imp_in_rec_coord(A,B,C,D,E,F,G,H,J)\n",
    "    angle = H*np.pi/180\n",
    "    coeff = (G/(a**2 + b**2))\n",
    "    c = coeff*(a*np.cos(angle) + b*np.sin(angle))\n",
    "    d = coeff*(a*np.sin(angle) - b*np.cos(angle))\n",
    "    return (c,d)"
   ]
  },
  {
   "cell_type": "code",
   "execution_count": 116,
   "metadata": {},
   "outputs": [
    {
     "data": {
      "text/plain": [
       "(2.858187152463388, 1.0128884611489803)"
      ]
     },
     "execution_count": 116,
     "metadata": {},
     "output_type": "execute_result"
    }
   ],
   "source": [
    "curr_I1(A,B,C,D,E,F,G,H,J)"
   ]
  },
  {
   "cell_type": "code",
   "execution_count": 117,
   "metadata": {},
   "outputs": [],
   "source": [
    "def vol_across_Z2(A,B,C,D,E,F,G,H,J):\n",
    "    angle = H*np.pi/180\n",
    "    X_L_1 = 2*np.pi*J*B*1e-3\n",
    "    \n",
    "    c,d = curr_I1(A,B,C,D,E,F,G,H,J)\n",
    "    e = G*np.cos(angle) + (d*X_L_1-A*c)\n",
    "    f = (G*np.sin(angle)-X_L_1*c - A*d)\n",
    "    return (e,f)\n",
    "\n",
    "def mag_vol(A,B,C,D,E,F,G,H,J):\n",
    "    e,f = vol_across_Z2(A,B,C,D,E,F,G,H,J)\n",
    "    return np.sqrt(e**2+f**2)"
   ]
  },
  {
   "cell_type": "code",
   "execution_count": 130,
   "metadata": {},
   "outputs": [
    {
     "data": {
      "text/plain": [
       "122.13448893983835"
      ]
     },
     "execution_count": 130,
     "metadata": {},
     "output_type": "execute_result"
    }
   ],
   "source": [
    "mag_vol(A,B,C,D,E,F,G,H,J)\n"
   ]
  },
  {
   "cell_type": "code",
   "execution_count": 140,
   "metadata": {},
   "outputs": [],
   "source": [
    "def power_factor(A,B,C,D,E,F,G,H,J):\n",
    "    a,b = tot_imp_in_rec_coord(A,B,C,D,E,F,G,H,J)\n",
    "    return np.cos(np.arctan(b/a))\n",
    "# if negative then the voltage is lagging, else leading\n",
    "# if negative then the current if leading, else lagging"
   ]
  },
  {
   "cell_type": "code",
   "execution_count": 141,
   "metadata": {},
   "outputs": [
    {
     "data": {
      "text/plain": [
       "0.49262682006931596"
      ]
     },
     "execution_count": 141,
     "metadata": {},
     "output_type": "execute_result"
    }
   ],
   "source": [
    "power_factor(A,B,C,D,E,F,G,H,J)"
   ]
  },
  {
   "cell_type": "code",
   "execution_count": 193,
   "metadata": {},
   "outputs": [],
   "source": [
    "def pow_fac_equal_1(A,B,C,D,E,F,G,H,J):\n",
    "    a,b = tot_imp_in_rec_coord(A,B,C,D,E,F,G,H,J)\n",
    "    X = -(a**2+b**2)/b\n",
    "    if(X < 0):\n",
    "        X = abs(X)\n",
    "        print(\"Capacitance\")\n",
    "        return 1e6/(2*np.pi*J*X)\n",
    "    else:\n",
    "        print(\"Inductance\")\n",
    "        return 1e3*X/2*np.pi*J\n",
    "# if negative then capacitive, else inductive"
   ]
  },
  {
   "cell_type": "code",
   "execution_count": 194,
   "metadata": {},
   "outputs": [
    {
     "name": "stdout",
     "output_type": "stream",
     "text": [
      "Capacitance\n"
     ]
    },
    {
     "data": {
      "text/plain": [
       "29.99932703414994"
      ]
     },
     "execution_count": 194,
     "metadata": {},
     "output_type": "execute_result"
    }
   ],
   "source": [
    "pow_fac_equal_1(A,B,C,D,E,F,G,H,J)"
   ]
  },
  {
   "cell_type": "code",
   "execution_count": 154,
   "metadata": {},
   "outputs": [],
   "source": [
    "def phase_ang_diff(A,B,C,D,E,F,G,H,J):\n",
    "    X_C = 1/(2*np.pi*J*D*1e-6)\n",
    "    phase = np.arctan(-X_C/C)\n",
    "    return phase*180/np.pi\n",
    "\n",
    "# if negative then the voltage is leading, else lagging\n",
    "    "
   ]
  },
  {
   "cell_type": "code",
   "execution_count": 155,
   "metadata": {},
   "outputs": [
    {
     "data": {
      "text/plain": [
       "-64.328096916864"
      ]
     },
     "execution_count": 155,
     "metadata": {},
     "output_type": "execute_result"
    }
   ],
   "source": [
    "phase_ang_diff(A,B,C,D,E,F,G,H,J)"
   ]
  },
  {
   "cell_type": "code",
   "execution_count": 169,
   "metadata": {},
   "outputs": [],
   "source": [
    "def power_loss_percentage(A,B,C,D,E,F,G,H,J):\n",
    "    X_C = 1/(2*np.pi*J*D*1e-6)\n",
    "    X_L_2 = 2*np.pi*J*F*1e-3\n",
    "    a,b = tot_imp_in_rec_coord(A,B,C,D,E,F,G,H,J)\n",
    "    c,d = curr_I1(A,B,C,D,E,F,G,H,J)\n",
    "    e,f = vol_across_Z2(A,B,C,D,E,F,G,H,J)\n",
    "    coeff1 = C**2 + X_C**2\n",
    "    coeff2 = E**2 + X_L_2**2\n",
    "    m = (e*C - f*X_C)/coeff1\n",
    "    n = (f*C + e*X_C)/coeff1\n",
    "    p = (e*E + f*X_L_2)/coeff2\n",
    "    q = (f*E - e*X_L_2)/coeff2\n",
    "    \n",
    "    return (m**2+n**2)*C*100/((c**2+d**2)*A + (m**2+n**2)*C + (p**2+q**2)*E)"
   ]
  },
  {
   "cell_type": "code",
   "execution_count": 170,
   "metadata": {},
   "outputs": [
    {
     "data": {
      "text/plain": [
       "39.371584288216596"
      ]
     },
     "execution_count": 170,
     "metadata": {},
     "output_type": "execute_result"
    }
   ],
   "source": [
    "power_loss_percentage(A,B,C,D,E,F,G,H,J)"
   ]
  },
  {
   "cell_type": "code",
   "execution_count": 176,
   "metadata": {},
   "outputs": [],
   "source": [
    "def react_power(A,B,C,D,E,F,G,H,J):\n",
    "\n",
    "    X_C = 1/(2*np.pi*J*D*1e-6)\n",
    "    e,f = vol_across_Z2(A,B,C,D,E,F,G,H,J)\n",
    "    coeff1 = C**2 + X_C**2\n",
    "    m = (e*C - f*X_C)/coeff1\n",
    "    n = (f*C + e*X_C)/coeff1\n",
    "    return (m**2+n**2)*X_C"
   ]
  },
  {
   "cell_type": "code",
   "execution_count": 178,
   "metadata": {},
   "outputs": [
    {
     "data": {
      "text/plain": [
       "342.60816905277403"
      ]
     },
     "execution_count": 178,
     "metadata": {},
     "output_type": "execute_result"
    }
   ],
   "source": [
    "react_power(A,B,C,D,E,F,G,H,J)"
   ]
  },
  {
   "cell_type": "code",
   "execution_count": 179,
   "metadata": {},
   "outputs": [],
   "source": [
    "def energy_consump(A,B,C,D,E,F,G,H,J,t):\n",
    "    c,d = curr_I1(A,B,C,D,E,F,G,H,J)\n",
    "    energy = (c**2+d**2)*A*t/(60000)\n",
    "    return energy"
   ]
  },
  {
   "cell_type": "code",
   "execution_count": 161,
   "metadata": {},
   "outputs": [
    {
     "data": {
      "text/plain": [
       "0.3984576627735393"
      ]
     },
     "execution_count": 161,
     "metadata": {},
     "output_type": "execute_result"
    }
   ],
   "source": [
    "energy_consump(A,B,C,D,E,F,G,H,J,t)"
   ]
  },
  {
   "cell_type": "code",
   "execution_count": 227,
   "metadata": {},
   "outputs": [],
   "source": [
    "def Vab_and_Vac(A,B,C,D,E,F,G,H,J):\n",
    "    # Vab - Vac\n",
    "    c,d = curr_I1(A,B,C,D,E,F,G,H,J)\n",
    "    X_L_1 = 2*np.pi*J*B*1e-3\n",
    "    print((A*c-X_L_1*d),(X_L_1*c+A*d))\n",
    "    print(280*np.cos(80*np.pi/180),280*np.sin(80*np.pi/180))\n",
    "    if (((X_L_1*c+A*d)/(A*c-X_L_1*d)) < 0):\n",
    "        return (180 - np.arctan(abs((X_L_1*c+A*d)/(A*c-X_L_1*d)))*180/np.pi - H)\n",
    "    else:\n",
    "        return (np.arctan(abs((X_L_1*c+A*d)/(A*c-X_L_1*d)))*180/np.pi - H)\n",
    "    "
   ]
  },
  {
   "cell_type": "code",
   "execution_count": 228,
   "metadata": {},
   "outputs": [
    {
     "name": "stdout",
     "output_type": "stream",
     "text": [
      "-20.121060090103093 174.79422568868353\n",
      "48.621489746740515 275.74617084341827\n"
     ]
    },
    {
     "data": {
      "text/plain": [
       "16.566577302593686"
      ]
     },
     "execution_count": 228,
     "metadata": {},
     "output_type": "execute_result"
    }
   ],
   "source": [
    "Vab_and_Vac(A,B,C,D,E,F,G,H,J)"
   ]
  },
  {
   "cell_type": "code",
   "execution_count": null,
   "metadata": {},
   "outputs": [],
   "source": []
  }
 ],
 "metadata": {
  "kernelspec": {
   "display_name": "base",
   "language": "python",
   "name": "python3"
  },
  "language_info": {
   "codemirror_mode": {
    "name": "ipython",
    "version": 3
   },
   "file_extension": ".py",
   "mimetype": "text/x-python",
   "name": "python",
   "nbconvert_exporter": "python",
   "pygments_lexer": "ipython3",
   "version": "3.11.4"
  }
 },
 "nbformat": 4,
 "nbformat_minor": 2
}
