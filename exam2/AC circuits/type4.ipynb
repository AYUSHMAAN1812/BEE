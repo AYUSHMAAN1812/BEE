{
 "cells": [
  {
   "cell_type": "code",
   "execution_count": null,
   "metadata": {},
   "outputs": [],
   "source": [
    "import numpy as np"
   ]
  },
  {
   "cell_type": "markdown",
   "metadata": {},
   "source": [
    "![Circuit Diagram](image4.png)\n",
    "\n",
    "The impedance $Z_1$ consists of a resistance of $A \\, \\Omega$, and an inductance of $B \\, \\text{mH}$.\n",
    "The impedance $Z_2$ consists of a resistance of $C \\, \\Omega$, and a capacitance of $D \\, \\mu\\text{F}$.\n",
    "The impedance $Z_3$ consists of a resistance of $E \\, \\Omega$, and an inductance of $F \\, \\text{mH}$.\n",
    "\n",
    "The voltage source is $G \\angle H^\\circ \\, \\text{V}$ at $J \\, \\text{Hz}$.\n"
   ]
  },
  {
   "cell_type": "code",
   "execution_count": 1,
   "metadata": {},
   "outputs": [],
   "source": [
    "def tot_imp_in_rec_coord(A,B,C,D,E,F,G,H,J,freq):   \n",
    "    X_L_1 = 2*np.pi*freq*B\n",
    "    X_L_2 = 2*np.pi*freq*F\n",
    "    X_C = 1/(2*np.pi*freq*D)\n",
    "\n",
    "    a = ((C*E+X_C*X_L_2)*(C+E) + (D*X_L_2-F*X_C)*(X_L_2-X_C))/((C+E)**2+(X_C-X_L_2)**2) + A\n",
    "    b = ((D*X_L_2-F*X_C)*(C+E) - (X_L_2-X_C)*(C*E+X_C*X_L_2))/((C+E)**2+(X_C-X_L_2)**2) + X_L_1\n",
    "    return(a,b)"
   ]
  },
  {
   "cell_type": "code",
   "execution_count": 2,
   "metadata": {},
   "outputs": [],
   "source": [
    "def curr_I1(A,B,C,D,E,F,G,H,J,freq):\n",
    "    a,b = tot_imp_in_rec_coord(A,B,C,D,E,F,G,H,J,freq)\n",
    "    angle = H*np.pi/180\n",
    "    c = a*np.cos(angle) + b*np.sin(angle)\n",
    "    d = a*np.sin(angle) - b*np.cos(angle)\n",
    "    return (G/(a**2 + b**2))(c,d)"
   ]
  },
  {
   "cell_type": "code",
   "execution_count": 3,
   "metadata": {},
   "outputs": [],
   "source": [
    "def vol_across_Z2(A,B,C,D,E,F,G,H,J,freq):\n",
    "    angle = H*np.pi/180\n",
    "    X_L_1 = 2*np.pi*freq*B\n",
    "    X_L_2 = 2*np.pi*freq*F\n",
    "    X_C = 1/(2*np.pi*freq*D)\n",
    "    c,d = curr_I1(A,B,C,D,E,F,G,H,J,freq)\n",
    "    e = G*np.cos(angle) + (d*X_L_1-A*c)\n",
    "    f = -(G*np.sin(angle)+X_L_1*c + A*d)\n",
    "    return (e,f)"
   ]
  },
  {
   "cell_type": "code",
   "execution_count": 1,
   "metadata": {},
   "outputs": [],
   "source": [
    "def power_factor(A,B,C,D,E,F,G,H,J,freq):\n",
    "    c,d = curr_I1(A,B,C,D,E,F,G,H,J,freq)\n",
    "    return np.cos(H-np.arctan(d/c))"
   ]
  },
  {
   "cell_type": "code",
   "execution_count": 3,
   "metadata": {},
   "outputs": [],
   "source": [
    "def pow_fac_equal_0(A,B,C,D,E,F,G,H,J,freq):\n",
    "    a,b = tot_imp_in_rec_coord(A,B,C,D,E,F,G,H,J,freq)\n",
    "    angle = H*np.pi/180\n",
    "    temp = -(np.tan(H)*np.sin(angle)+np.cos(angle))*(a**2 + b**2)/(a*np.cos(angle)*np.tan(H)+b*np.sin(angle)*np.tan(H)+b*np.cos(angle)-a*np.sin(angle))\n",
    "    if(temp < 0):\n",
    "        return 1/(2*np.pi*freq*abs(temp))\n",
    "    else:\n",
    "        return (2*np.pi*freq*temp)"
   ]
  },
  {
   "cell_type": "code",
   "execution_count": 4,
   "metadata": {},
   "outputs": [],
   "source": [
    "def phase_ang_diff(A,B,C,D,E,F,G,H,J,freq):\n",
    "    X_C = 1/(2*np.pi*freq*D)\n",
    "    e,f = vol_across_Z2(A,B,C,D,E,F,G,H,J,freq)\n",
    "    # phase angle difference = phase of V3 - phase of I2\n",
    "    phase = f/C - (f*C + e*X_C)/(e*C - f*X_C)\n",
    "    return phase\n",
    "    "
   ]
  },
  {
   "cell_type": "code",
   "execution_count": 1,
   "metadata": {},
   "outputs": [],
   "source": [
    "def power_loss_percentage(A,B,C,D,E,F,G,H,J,freq):\n",
    "    X_C = 1/(2*np.pi*freq*D)\n",
    "    a,b = tot_imp_in_rec_coord(A,B,C,D,E,F,G,H,J,freq)\n",
    "    c,d = curr_I1(A,B,C,D,E,F,G,H,J,freq)\n",
    "    e,f = vol_across_Z2(A,B,C,D,E,F,G,H,J,freq)\n",
    "    m = (e*C - f*X_C)\n",
    "    n = (f*C + e*X_C)\n",
    "    return np.sqrt(m**2+n**2)*C*100/(np.sqrt(c**2+d**2)*a)"
   ]
  },
  {
   "cell_type": "code",
   "execution_count": 2,
   "metadata": {},
   "outputs": [],
   "source": [
    "def react_power(A,B,C,D,E,F,G,H,J,freq):\n",
    "    e,f = vol_across_Z2(A,B,C,D,E,F,G,H,J,freq)\n",
    "    X_C = 1/(2*np.pi*freq*D)\n",
    "    return (e**2+f**2)/X_C"
   ]
  },
  {
   "cell_type": "code",
   "execution_count": 4,
   "metadata": {},
   "outputs": [],
   "source": [
    "def energy_consump(A,B,C,D,E,F,G,H,J,freq,t):\n",
    "    c,d = curr_I1(A,B,C,D,E,F,G,H,J,freq)\n",
    "    energy = (c**2+d**2)*A*t/(60000)\n",
    "    return energy"
   ]
  },
  {
   "cell_type": "code",
   "execution_count": 5,
   "metadata": {},
   "outputs": [],
   "source": [
    "def Vab_and_Vac(A,B,C,D,E,F,G,H,J,freq):\n",
    "    # Vac - Vab\n",
    "    c,d = curr_I1(A,B,C,D,E,F,G,H,J,freq)\n",
    "    X_L_1 = 2*np.pi*freq*B\n",
    "    return H - np.arctan((X_L_1*c+A*d)/(A*c-X_L_1*d))"
   ]
  },
  {
   "cell_type": "code",
   "execution_count": null,
   "metadata": {},
   "outputs": [],
   "source": []
  }
 ],
 "metadata": {
  "kernelspec": {
   "display_name": "base",
   "language": "python",
   "name": "python3"
  },
  "language_info": {
   "codemirror_mode": {
    "name": "ipython",
    "version": 3
   },
   "file_extension": ".py",
   "mimetype": "text/x-python",
   "name": "python",
   "nbconvert_exporter": "python",
   "pygments_lexer": "ipython3",
   "version": "3.11.4"
  }
 },
 "nbformat": 4,
 "nbformat_minor": 2
}
