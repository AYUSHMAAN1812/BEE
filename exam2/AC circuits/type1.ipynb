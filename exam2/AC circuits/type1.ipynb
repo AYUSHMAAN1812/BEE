{
 "cells": [
  {
   "cell_type": "markdown",
   "metadata": {},
   "source": [
    "![Circuit Diagram](image1.png)\n",
    "\n",
    "The impedance $Z_1$ consists of a resistance of $A \\, \\Omega$, and inductance of $B \\, \\text{mH}$. \n",
    "The impedance $Z_2$\n",
    "consists of a resistance of $C \\, \\Omega$, and capacitanceof $D \\, \\mu\\text{F}$. \n",
    "The impedance $Z_3$ consists of a resistance of $E \\, \\Omega$, and inductance of $F \\, \\text{mH}$.\n",
    "\n",
    "The voltage source lalal aal ala is $G \\angle H^\\circ \\, \\text{V}$ at $J \\, \\text{Hz}$."
   ]
  },
  {
   "cell_type": "markdown",
   "metadata": {},
   "source": []
  }
 ],
 "metadata": {
  "language_info": {
   "name": "python"
  }
 },
 "nbformat": 4,
 "nbformat_minor": 2
}
