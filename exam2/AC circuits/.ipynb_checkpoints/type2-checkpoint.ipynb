{
 "cells": [
  {
   "cell_type": "markdown",
   "metadata": {},
   "source": [
    "![Circuit Diagram](image2.png)\n",
    "\n",
    "The impedance $Z_1$ consists of a resistance of $A \\, \\Omega$, and inductance of $B \\, \\text{mH}$.\n",
    "The impedance $Z_2$ consists of a resistance of $C \\, \\Omega$, and capacitance of $D \\, \\mu\\text{F}$.\n",
    "The impedance $Z_3$ consists of a resistance of $E \\, \\Omega$, and inductance of $F \\, \\text{mH}$.\n",
    "\n",
    "The voltage source is $G \\angle H^\\circ \\, \\text{V}$ at $J \\, \\text{Hz}$.\n"
   ]
  },
  {
   "cell_type": "code",
   "execution_count": 1,
   "metadata": {},
   "outputs": [],
   "source": [
    "import numpy as np"
   ]
  },
  {
   "cell_type": "code",
   "execution_count": 2,
   "metadata": {},
   "outputs": [
    {
     "name": "stdin",
     "output_type": "stream",
     "text": [
      "R1: 10\n",
      "L1 (in mH): 130\n",
      "R2: 19\n",
      "C2 (in micro-F): 70\n",
      "R3: 5\n",
      "L3 (in mH): 60\n"
     ]
    }
   ],
   "source": [
    "r1=float(input((\"R1:\")))\n",
    "l1=float(input((\"L1 (in mH):\")))\n",
    "l1*=1e-3\n",
    "r2=float(input((\"R2:\")))\n",
    "c2=float(input((\"C2 (in micro-F):\")))\n",
    "c2*=1e-6\n",
    "r3=float(input((\"R3:\")))\n",
    "l3=float(input((\"L3 (in mH):\")))        \n",
    "l3*=1e-3"
   ]
  },
  {
   "cell_type": "code",
   "execution_count": 3,
   "metadata": {},
   "outputs": [
    {
     "name": "stdin",
     "output_type": "stream",
     "text": [
      "Voltage:  220\n",
      "Freq: 50\n",
      "Phase (in deg): 50\n"
     ]
    }
   ],
   "source": [
    "v= float(input(\"Voltage: \"))\n",
    "freq=float(input(\"Freq:\"))\n",
    "w=freq*2*np.pi\n",
    "phase=float(input(\"Phase (in deg):\"))\n",
    "phase*=np.pi/180"
   ]
  },
  {
   "cell_type": "code",
   "execution_count": 33,
   "metadata": {},
   "outputs": [
    {
     "name": "stdout",
     "output_type": "stream",
     "text": [
      "1) Total impedance:  34.0 14.217419534807405\n"
     ]
    }
   ],
   "source": [
    "req=r1+r2+r3\n",
    "leq=w*(l1+l3)\n",
    "ceq=1/(w*c2)\n",
    "phase_actual=np.arctan((leq-ceq)/req)\n",
    "imp=(req**2)+((leq-ceq)**2)\n",
    "imp=imp**0.5\n",
    "print(\"1) Total impedance: \", req, leq-ceq)"
   ]
  },
  {
   "cell_type": "code",
   "execution_count": 62,
   "metadata": {},
   "outputs": [
    {
     "name": "stdout",
     "output_type": "stream",
     "text": [
      "2) Total current: (5.3044136071828785, 2.7386677601975022)\n"
     ]
    }
   ],
   "source": [
    "i=v/imp\n",
    "i=(i*np.cos(phase - np.copysign(phase_actual, leq-ceq)), i*np.sin(phase - np.copysign(phase_actual, leq-ceq)))\n",
    "print(\"2) Total current:\",i)"
   ]
  },
  {
   "cell_type": "code",
   "execution_count": 45,
   "metadata": {},
   "outputs": [
    {
     "name": "stdout",
     "output_type": "stream",
     "text": [
      "3) Voltage across Z2: 225.31886182842953 -189.17206849540926\n"
     ]
    }
   ],
   "source": [
    "print(\"3) Voltage across Z2:\", (i[0]*r2)+i[1]*(1/(w*c2)), (i[1]*r2)-i[0]*(1/(w*c2)))"
   ]
  },
  {
   "cell_type": "code",
   "execution_count": 46,
   "metadata": {},
   "outputs": [
    {
     "name": "stdout",
     "output_type": "stream",
     "text": [
      "4) Voltage across nodes A and C: 166.51387719148238 54.850597765622844\n"
     ]
    }
   ],
   "source": [
    "# phase_q4=np.arctan(((w*l1)-(1/(w*c2)))/(r1+r2))\n",
    "# z_q4=((((w*l1)-(1/(w*c2)))**2)+((r1+r2)**2))**0.5\n",
    "print(\"4) Voltage across nodes A and C:\", (i[0]*(r1+r2))-i[1]*((w*l1)-(1/(w*c2))), (i[1]*(r1+r2))+i[0]*((w*l1)-(1/(w*c2))))"
   ]
  },
  {
   "cell_type": "code",
   "execution_count": 35,
   "metadata": {},
   "outputs": [
    {
     "name": "stdout",
     "output_type": "stream",
     "text": [
      "5) Power factor:  0.9225872393544833\n"
     ]
    }
   ],
   "source": [
    "print(\"5) Power factor: \", np.cos(phase_actual))"
   ]
  },
  {
   "cell_type": "code",
   "execution_count": 65,
   "metadata": {},
   "outputs": [
    {
     "name": "stdout",
     "output_type": "stream",
     "text": [
      "6) Reactive power:  1620.5203968798958\n"
     ]
    }
   ],
   "source": [
    "print(\"6) Reactive power: \", ((i[0]**2)+(i[1]**2))*(1/(w*c2)))"
   ]
  },
  {
   "cell_type": "code",
   "execution_count": 70,
   "metadata": {},
   "outputs": [
    {
     "name": "stdout",
     "output_type": "stream",
     "text": [
      "7) Energy used by Z1 in 500 min:  2.9697587347343397\n"
     ]
    }
   ],
   "source": [
    "phase_z1=np.arctan(w*l1/r1)\n",
    "z1=((r1**2)+(w*(l1))**2)**0.5\n",
    "print(\"7) Energy used by Z1 in 500 min: \", 500*((i[0]**2)+(i[1]**2))*(r1)/(1e3*60))"
   ]
  },
  {
   "cell_type": "code",
   "execution_count": 71,
   "metadata": {},
   "outputs": [
    {
     "name": "stdout",
     "output_type": "stream",
     "text": [
      "Capacitance:  3.332176207233029e-05\n"
     ]
    }
   ],
   "source": [
    "if phase_actual>0:\n",
    "    print(\"Capacitance: \", np.sin(phase_actual)/(imp*w))\n",
    "else:\n",
    "    print(\"Inductance: \", imp/(w*np.sin(phase_actual)))"
   ]
  },
  {
   "cell_type": "code",
   "execution_count": 74,
   "metadata": {},
   "outputs": [
    {
     "name": "stdout",
     "output_type": "stream",
     "text": [
      "9) Active power loss ratio:  0.14705882352941174\n"
     ]
    }
   ],
   "source": [
    "z3=((r3**2)+(w*l3)**2)**0.5\n",
    "phase_z3=np.arctan(w*l3/r3)\n",
    "print(\"9) Active power loss ratio: \", ((i[0]**2)+(i[1]**2))*(r3)/(((i[0]**2)+(i[1]**2))*(r3+r2+r1)))"
   ]
  },
  {
   "cell_type": "code",
   "execution_count": 77,
   "metadata": {},
   "outputs": [
    {
     "name": "stdout",
     "output_type": "stream",
     "text": [
      "Voltage_ac leads by 38.89127070872832 degrees\n"
     ]
    }
   ],
   "source": [
    "phase_ac=np.arctan(((w*l1)-(1/(w*c2)))/(r1+r2))\n",
    "phase_bd=np.arctan(((w*l3)-(1/(w*c2)))/(r3+r2))\n",
    "print(\"Voltage_ac leads by\", (-phase_bd+phase_ac)*180/np.pi, \"degrees\")"
   ]
  },
  {
   "cell_type": "code",
   "execution_count": null,
   "metadata": {},
   "outputs": [],
   "source": []
  }
 ],
 "metadata": {
  "kernelspec": {
   "display_name": "Python 3 (ipykernel)",
   "language": "python",
   "name": "python3"
  },
  "language_info": {
   "codemirror_mode": {
    "name": "ipython",
    "version": 3
   },
   "file_extension": ".py",
   "mimetype": "text/x-python",
   "name": "python",
   "nbconvert_exporter": "python",
   "pygments_lexer": "ipython3",
   "version": "3.12.2"
  }
 },
 "nbformat": 4,
 "nbformat_minor": 4
}

