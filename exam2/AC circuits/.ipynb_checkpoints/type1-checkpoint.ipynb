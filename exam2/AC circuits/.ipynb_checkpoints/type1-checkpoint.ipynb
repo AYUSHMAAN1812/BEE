{
 "cells": [
  {
   "cell_type": "markdown",
   "metadata": {},
   "source": [
    "![Circuit Diagram](image1.png) <br>\n",
    "The Units used will be:\n",
    "- Resistance $R$ : $\\Omega$ (Ohm)\n",
    "- Capacitance $C$ : $\\mu\\text{F}$ (micro Faraday)\n",
    "- Inductance $L$ : $\\text{mH}$ (milli Henry)\n",
    "  \n",
    "The impedance $Z_i$ consists of a resistance of $R_i \\, \\Omega$, inductance of $L_i \\, \\text{mH}$ and capacitance of $C_i \\, \\mu\\text{F}$. <br>\n",
    "\n",
    "The voltage source is $E \\angle \\theta^\\circ \\, \\text{V}$ at $\\textit{f} \\, \\text{Hz}$."
   ]
  },
  {
   "cell_type": "markdown",
   "metadata": {},
   "source": [
    "### Solutions\n",
    "\n",
    "[Refrence for the use of Complex numbers in AC circuits](#https://www.mathforengineers.com/AC-circuits/complex-numbers-in-AC-circuits.html#:~:text=It%20is%20shown%20mathematically%20how%20complex%20numbers%20can,law.%20Examples%20with%20detailed%20solutions%20are%20also%20included.)\n",
    "\n",
    "#### tl;dr\n",
    "- $j = \\sqrt{-1}$.\n",
    "- $V$ is a complex number and represented in $V_m e^{j(\\omega t + \\phi_0)}$.\n",
    "- impedance caused by resistance ($X_R$) = R\n",
    "- impedance caused by capacitance ($X_C$) = $\\frac{-j}{\\omega C}$\n",
    "- impedance caused by inductance ($X_L$) = $j\\omega L $\n",
    "- Current generated in a Series RCL Circuit $I$ = $\\frac{V}{X_R + X_C + X_L}$\n",
    "- Power generated $P$ = $\\frac{I_mV_m}{2}\\cos(\\phi)$ in complex form : $$ V(t) =  V_m e^{j(\\omega t +\\phi_0)}, I(t) = I_m e^{j(\\omega t +\\phi_0 + \\phi)}$$ $$ \\cos(\\phi) = \\mathcal{Re}\\left\\{\\frac{I(t)}{I_m}.\\frac{V_m}{V(t)}\\right\\} = \\mathcal{Re}\\left\\{ e^{j\\phi} \\right\\}$$ so, $$ \\text{Power generated } P = \\frac{V_mI_m}{2}\\mathcal{Re}\\left\\{\\frac{I(t)}{I_m}.\\frac{V_m}{V(t)}\\right\\}$$\n",
    "#### Problem - 1\n",
    "> Find the supply current $I$ of the circuit in rectangular form in Amperes. <br>\n",
    "- from the given RMS value lets find $V_m$.\n",
    "- find the $I$ value for $(t = 0)$ with initial phase difference $\\theta$.\n",
    "- then, find the rms value of $I$ using the $I$ value at $(t = 0)$.\n",
    "#### Problem - 2\n",
    "> If the impedance Z3 is short circuited then find the\n",
    "current I1 of the circuit in rectangular form in\n",
    "Amperes.\n",
    "- Similar to Problem - 1.\n",
    "#### Problem - 3\n",
    "> What is the active power supplied by the voltage\n",
    "source to the circuit?\n",
    "- find the power value and use the phase difference to check weather if it is leading or lagging.\n",
    "#### Problem - 4\n",
    "> What is the power factor of the circuit?\n",
    "- find the phase difference by dividing the angle component of $I$ currenet and $V$ voltage.\n",
    "#### Problem - 5\n",
    "> What is the phase difference between the currents $I_1$\n",
    "and $I_2$?\n",
    "- Similar to Problem - 4.\n",
    "#### Problem - 6\n",
    "> If the impedance $Z_2$ is short circuited then What is\n",
    "the phase difference between the currents $I_1$ and $I_2$?\n",
    "- Similar to Problem - 4.\n",
    "#### Problem - 7\n",
    "> If by connecting an inductor or capacitor additionally\n",
    "in parallel to the voltage supply, the power factor of\n",
    "the circuit becomes 1.0. Determine the value of the\n",
    "inductor or capacitor ?\n",
    "- to make the power factor = 1, we just need to negate the perpendicular component of Current w.r.t Voltage using either Capacitance or Inductance.\n",
    "- We are assuming the Current is lagging behind the voltage, so we need to add capacitance in parallel to negate to perpendicular compenent of current w.r.t Voltage. $$ \\text{let } i_p = \\frac{V}{X_c} $$ then, $$ \\text{we want,} X_c + Z_{rem} \\in \\mathbb{R}$$ $$ X_c + \\mathcal{Im}\\left\\{Z_{rem}\\right\\} = 0$$ $$ X_c = -\\mathcal{Im}\\left\\{Z_{rem}\\right\\} $$\n",
    "- with this we can find the capacitance but if the value of imaginary is positive then it means that the current is leading the voltage so our assumption is wrong so we will do the calculations but now taking the parallel component as Inductor.\n",
    "#### Problem - 8\n",
    "> What is the active power loss in $Z_3$ in the circuit?\n",
    "- Similar to Problem - 4.\n",
    "#### Problem - 9\n",
    "> What is the energy consumed in kW h by the\n",
    "impedance $Z_1$ if the entire circuit was operated for\n",
    "300 minutes ?\n",
    "- Similar to Problem - 4 except we will multiply the time.\n",
    "#### Problem - 10\n",
    "> What is the phase difference between the voltages\n",
    "$V_{AB}$ and $V_{DE}$ where A,B,D,E are the nodes shown in\n",
    "the circuit ?\n",
    "- Similar to Problem - 6."
   ]
  },
  {
   "cell_type": "code",
   "execution_count": 579,
   "metadata": {},
   "outputs": [],
   "source": [
    "import numpy as np\n",
    "\n",
    "#unit conversation values\n",
    "\n",
    "r = 1\n",
    "l = 1e-3\n",
    "c = 1e-6\n",
    "\n",
    "# INPUT VALUES\n",
    "\n",
    "#-- Voltage source.\n",
    "E = 240 # Voltage of the source. #rms\n",
    "theta = 80 # Phase of the Voltage source (in degrees).\n",
    "f = 40 # frequency of the voltage source (in Hertz).\n",
    "\n",
    "#-- Z_1\n",
    "R_1 = 12 # resistance of the impedance Z_1. (Ohm)\n",
    "L_1 = 120 # Inductance of the impedance Z_1. (mH)\n",
    "C_1 = 0 # Capacitance of the impedance of Z_1. (micro F)\n",
    "Z_1 = np.array([R_1,L_1,C_1])\n",
    "\n",
    "#-- Z_2\n",
    "R_2 = 18 # resistance of the impedance Z_2. (Ohm)\n",
    "L_2 = 0 # Inductance of the impedance Z_2. (mH)\n",
    "C_2 = 60 # Capacitance of the impedance of Z_2 (micro F)\n",
    "Z_2 = np.array([R_2,L_2,C_2])\n",
    "\n",
    "#-- Z_3\n",
    "R_3 = 4 # resistance of the impedance Z_3. (Ohm)\n",
    "L_3 = 75 # Inductance of the impedance Z_3 (mH)\n",
    "C_3 = 0 # Capacitance of the impedance of Z_3 (micro F)\n",
    "Z_3 = np.array([R_3,L_3,C_3])\n",
    "\n",
    "ans = [0 for i in range(10)]"
   ]
  },
  {
   "cell_type": "code",
   "execution_count": 580,
   "metadata": {},
   "outputs": [],
   "source": [
    "def impedance_resistance(z):\n",
    "    Xc = 0\n",
    "    if (z[2] != 0):\n",
    "        Xc = -1j/(2*np.pi*f*z[2]*c)\n",
    "    Xl = 2*np.pi*f*z[1]*l*1j\n",
    "    return z[0] + Xc + Xl\n",
    "\n",
    "def power(V,I):\n",
    "    # phase_diff = np.cos((V.real*I.real + V.imag*I.imag)/(np.abs(V)*np.abs(I))) \n",
    "    return ((np.abs(V)**2)*(I/V)/2)\n",
    "\n",
    "def phase_diff(c1,c2):\n",
    "    return (np.arccos((c1*np.abs(c2)/(c2*np.abs(c1))).real))"
   ]
  },
  {
   "cell_type": "code",
   "execution_count": 581,
   "metadata": {},
   "outputs": [
    {
     "name": "stdout",
     "output_type": "stream",
     "text": [
      "(3.4764530242730185+4.121638412825411j)\n"
     ]
    }
   ],
   "source": [
    "# Problem - 1\n",
    "\n",
    "V = E*np.sqrt(2)*np.exp(1j*np.deg2rad(theta))\n",
    "\n",
    "i1 = V/impedance_resistance(Z_1)\n",
    "i2 = V/impedance_resistance(Z_2 + Z_3)\n",
    "ans[0] = (i1 + i2)/np.sqrt(2)\n",
    "print(ans[0]) #rms"
   ]
  },
  {
   "cell_type": "code",
   "execution_count": 582,
   "metadata": {},
   "outputs": [
    {
     "name": "stdout",
     "output_type": "stream",
     "text": [
      "(7.240410225412198+1.4990194017390566j)\n"
     ]
    }
   ],
   "source": [
    "#problem - 2\n",
    "\n",
    "V = E*np.sqrt(2)*np.exp(1j*np.deg2rad(theta))\n",
    "\n",
    "i1 = V/impedance_resistance(Z_1)\n",
    "i2 = V/impedance_resistance(Z_2)\n",
    "\n",
    "ans[1] = i1/np.sqrt(2)\n",
    "print(ans[1]) # rms"
   ]
  },
  {
   "cell_type": "code",
   "execution_count": 583,
   "metadata": {},
   "outputs": [
    {
     "name": "stdout",
     "output_type": "stream",
     "text": [
      "1119.0482871535428\n"
     ]
    }
   ],
   "source": [
    "#problem - 3\n",
    "\n",
    "V = E*np.sqrt(2)*np.exp(1j*np.deg2rad(theta))\n",
    "\n",
    "i1 = V/impedance_resistance(Z_1)\n",
    "i2 = V/impedance_resistance(Z_2 + Z_3)\n",
    "ans[2] = power(V,i1 + i2).real\n",
    "\n",
    "print(ans[2])"
   ]
  },
  {
   "cell_type": "code",
   "execution_count": 584,
   "metadata": {},
   "outputs": [
    {
     "name": "stdout",
     "output_type": "stream",
     "text": [
      "0.8647448101246201\n"
     ]
    }
   ],
   "source": [
    "#problem - 4\n",
    "\n",
    "V = E*np.sqrt(2)*np.exp(1j*np.deg2rad(theta))\n",
    "\n",
    "i1 = V/impedance_resistance(Z_1)\n",
    "i2 = V/impedance_resistance(Z_2 + Z_3)\n",
    "ans[3] = np.cos(phase_diff(i1 + i2,V))\n",
    "\n",
    "print(ans[3])"
   ]
  },
  {
   "cell_type": "code",
   "execution_count": 585,
   "metadata": {},
   "outputs": [
    {
     "name": "stdout",
     "output_type": "stream",
     "text": [
      "133.43532219985903\n"
     ]
    }
   ],
   "source": [
    "#problem - 5\n",
    "\n",
    "V = E*np.sqrt(2)*np.exp(1j*np.deg2rad(theta))\n",
    "\n",
    "i1 = V/impedance_resistance(Z_1)\n",
    "i2 = V/impedance_resistance(Z_2 + Z_3)\n",
    "ans[4] = np.rad2deg(phase_diff(i1,i2))\n",
    "\n",
    "print(ans[4])"
   ]
  },
  {
   "cell_type": "code",
   "execution_count": 586,
   "metadata": {},
   "outputs": [
    {
     "name": "stdout",
     "output_type": "stream",
     "text": [
      "9.716170403853852\n"
     ]
    }
   ],
   "source": [
    "#problem - 6\n",
    "\n",
    "V = E*np.sqrt(2)*np.exp(1j*np.deg2rad(theta))\n",
    "\n",
    "i1 = V/impedance_resistance(Z_1)\n",
    "i2 = V/impedance_resistance(Z_3)\n",
    "\n",
    "ans[5] = np.rad2deg(phase_diff(i1,i2))\n",
    "\n",
    "print(ans[5])"
   ]
  },
  {
   "cell_type": "code",
   "execution_count": 587,
   "metadata": {},
   "outputs": [
    {
     "name": "stdout",
     "output_type": "stream",
     "text": [
      "44.89367851637625\n"
     ]
    }
   ],
   "source": [
    "#problem - 7\n",
    "\n",
    "p6 = True # for capacitance or inductance.\n",
    "ans[6] = -(1/impedance_resistance(Z_1) + 1/impedance_resistance(Z_2 + Z_3)).imag/(2*np.pi*f*c)\n",
    "if (ans[6] < 0):\n",
    "    ans[6] *= (2*np.pi*f*c)*(2*np.pi*f*l)\n",
    "print(ans[6])"
   ]
  },
  {
   "cell_type": "code",
   "execution_count": 588,
   "metadata": {},
   "outputs": [
    {
     "name": "stdout",
     "output_type": "stream",
     "text": [
      "84.18201715727619\n"
     ]
    }
   ],
   "source": [
    "#problem - 8\n",
    "\n",
    "V = E*np.sqrt(2)*np.exp(1j*np.deg2rad(theta))\n",
    "\n",
    "i1 = V/impedance_resistance(Z_1)\n",
    "i2 = V/impedance_resistance(Z_2 + Z_3)\n",
    "\n",
    "ans[7] = power(i2*impedance_resistance(Z_3),i2).real\n",
    "print(ans[7])"
   ]
  },
  {
   "cell_type": "code",
   "execution_count": 589,
   "metadata": {},
   "outputs": [
    {
     "name": "stdout",
     "output_type": "stream",
     "text": [
      "3.2802359639426184\n"
     ]
    }
   ],
   "source": [
    "#problem - 9\n",
    "\n",
    "V = E*np.sqrt(2)*np.exp(1j*np.deg2rad(theta))\n",
    "\n",
    "i1 = V/impedance_resistance(Z_1)\n",
    "i2 = V/impedance_resistance(Z_2 + Z_3)\n",
    "\n",
    "ans[8] = power(V,i1).real*5/1000\n",
    "print(ans[8])"
   ]
  },
  {
   "cell_type": "code",
   "execution_count": 590,
   "metadata": {},
   "outputs": [
    {
     "name": "stdout",
     "output_type": "stream",
     "text": [
      "143.15149260371288\n"
     ]
    }
   ],
   "source": [
    "#problem - 10\n",
    "\n",
    "V = E*np.sqrt(2)*np.exp(1j*np.deg2rad(theta))\n",
    "\n",
    "i1 = V/impedance_resistance(Z_1)\n",
    "i2 = V/impedance_resistance(Z_2 + Z_3)\n",
    "\n",
    "ans[9] = np.rad2deg(phase_diff(V,i2*impedance_resistance(Z_3)))\n",
    "print(ans[9])"
   ]
  },
  {
   "cell_type": "code",
   "execution_count": 594,
   "metadata": {},
   "outputs": [
    {
     "name": "stdout",
     "output_type": "stream",
     "text": [
      "problem - 1 : (3.48+4.12j) A\n",
      "problem - 2 : (7.24+1.5j) A\n",
      "problem - 3 : 1119.0 W\n",
      "problem - 4 : 0.865 lead\n",
      "problem - 5 : 133.44 deg\n",
      "problem - 6 : 9.72 deg\n",
      "problem - 7 : 44.9 μF\n",
      "problem - 8 : 84.2 W\n",
      "problem - 9 : 3.28 kWh\n",
      "problem - 10 : V_AB leads V_DE with an angle of 143.2 deg (or) V_AB lags V_DE with an angle of 216.8 deg\n"
     ]
    }
   ],
   "source": [
    "# Final answers\n",
    "print(\"problem - 1 :\",end = \" \")\n",
    "print(np.round(ans[0],2),\"A\")\n",
    "print(\"problem - 2 :\",end = \" \")\n",
    "print(np.round(ans[1],2),\"A\")\n",
    "print(\"problem - 3 :\",end = \" \")\n",
    "print(np.round(ans[2],1),\"W\")\n",
    "print(\"problem - 4 :\",end = \" \")\n",
    "print(np.round(ans[3].real,3),\"lag\" if (ans[3].imag< 0) else \"lead\")\n",
    "print(\"problem - 5 :\",end = \" \")\n",
    "print(np.round(ans[4],2),\"deg\")\n",
    "print(\"problem - 6 :\",end = \" \")\n",
    "print(np.round(ans[5],2),\"deg\")\n",
    "print(\"problem - 7 :\",end = \" \")\n",
    "print(np.round(np.abs(ans[6]),1),u\"\\u03BCF\" if (ans[0] > 0) else \"mH\")\n",
    "print(\"problem - 8 :\",end = \" \")\n",
    "print(np.round(ans[7],1),\"W\")\n",
    "print(\"problem - 9 :\",end = \" \")\n",
    "print(np.round(ans[8],2),\"kWh\")\n",
    "print(\"problem - 10 :\",end = \" \")\n",
    "print(\"V_AB\",\"leads\",\"V_DE\",\"with an angle of\",np.round(ans[9],1),\"deg\",\"(or)\",\"V_AB\",\"lags\",\"V_DE\",\"with an angle of\",np.round(360 - ans[9],1),\"deg\")"
   ]
  },
  {
   "cell_type": "code",
   "execution_count": null,
   "metadata": {},
   "outputs": [],
   "source": []
  }
 ],
 "metadata": {
  "kernelspec": {
   "display_name": "Python 3 (ipykernel)",
   "language": "python",
   "name": "python3"
  },
  "language_info": {
   "codemirror_mode": {
    "name": "ipython",
    "version": 3
   },
   "file_extension": ".py",
   "mimetype": "text/x-python",
   "name": "python",
   "nbconvert_exporter": "python",
   "pygments_lexer": "ipython3",
   "version": "3.12.9"
  }
 },
 "nbformat": 4,
 "nbformat_minor": 4
}
